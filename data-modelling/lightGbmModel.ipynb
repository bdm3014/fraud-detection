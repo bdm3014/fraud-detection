{
 "cells": [
  {
   "cell_type": "code",
   "execution_count": null,
   "metadata": {},
   "outputs": [],
   "source": [
    "import pandas as pd\n",
    "import gc\n",
    "import numpy as np\n",
    "import math\n",
    "\n",
    "import matplotlib.pyplot as plt\n",
    "import seaborn as sns\n",
    "from sklearn import preprocessing\n",
    "\n",
    "import lightgbm as lgb\n",
    "from sklearn.metrics import classification_report, confusion_matrix\n",
    "from sklearn.metrics import roc_auc_score\n",
    "from sklearn.metrics import roc_auc_score\n",
    "\n",
    "import warnings\n",
    "warnings.filterwarnings(\"ignore\")\n",
    "\n",
    "import gc\n",
    "gc.enable()\n",
    "\n",
    "import logging\n",
    "logger = logging.getLogger()\n",
    "logger.setLevel(logging.DEBUG)\n",
    "\n",
    "import os"
   ]
  },
  {
   "cell_type": "markdown",
   "metadata": {},
   "source": [
    "Reading the Proccessed Data from the Data Pre-Proccessing Step"
   ]
  },
  {
   "cell_type": "code",
   "execution_count": null,
   "metadata": {},
   "outputs": [],
   "source": [
    "# Read the 'train_12.pkl' pickle file and load it into the 'train' DataFrame\n",
    "train = pd.read_pickle('./train_12.pkl')\n",
    "\n",
    "# Read the 'test_12.pkl' pickle file and load it into the 'test' DataFrame\n",
    "test = pd.read_pickle('./test_12.pkl')"
   ]
  },
  {
   "cell_type": "markdown",
   "metadata": {},
   "source": [
    "Drop the 'Date' Columns from dataframe"
   ]
  },
  {
   "cell_type": "code",
   "execution_count": null,
   "metadata": {},
   "outputs": [],
   "source": [
    "# Date columns are not indicators\n",
    "train.drop('TransactionDT', axis=1, inplace=True)\n",
    "train.drop('DT', axis=1, inplace=True)\n",
    "\n",
    "test.drop('TransactionDT', axis=1, inplace=True)\n",
    "test.drop('DT', axis=1, inplace=True)"
   ]
  },
  {
   "cell_type": "markdown",
   "metadata": {},
   "source": [
    "Define Train and Test sets"
   ]
  },
  {
   "cell_type": "code",
   "execution_count": null,
   "metadata": {},
   "outputs": [],
   "source": [
    "# Target variable for training set (y_train)\n",
    "y_train = train['isFraud']\n",
    "\n",
    "# Independent variables for training set (X_train)\n",
    "X_train = train.drop(['isFraud'], axis=1)\n",
    "\n",
    "# Target variable for test set (y_test)\n",
    "y_test = test['isFraud']\n",
    "\n",
    "# Independent variables for test set (X_test)\n",
    "X_test = test.drop(['isFraud'], axis=1)"
   ]
  },
  {
   "cell_type": "code",
   "execution_count": null,
   "metadata": {},
   "outputs": [],
   "source": [
    "# Get the count of negative and positive examples\n",
    "count_negative = (y_train == 0).sum()\n",
    "count_positive = (y_train == 1).sum()\n",
    "\n",
    "# Calculate the value of scale_pos_weight\n",
    "scale_pos_weight = math.sqrt(count_negative / count_positive)"
   ]
  },
  {
   "cell_type": "markdown",
   "metadata": {},
   "source": [
    "Run the LightGBM model woth Default Parameters"
   ]
  },
  {
   "cell_type": "code",
   "execution_count": null,
   "metadata": {},
   "outputs": [],
   "source": [
    "# Defualt Parameter\n",
    "lgbclf = lgb.LGBMClassifier(\n",
    "  random_state=1003,\n",
    "  scale_pos_weight=scale_pos_weight,\n",
    "  metric='auc',\n",
    "  objective= 'binary',\n",
    "  device = 'gpu')\n",
    "lgbclf.fit(X_train,y_train)\n",
    "\n",
    "#prediction\n",
    "y_pred_lgbm = lgbclf.predict(X_test)\n",
    "\n",
    "# Probas for train\n",
    "y_train_lgbm_proba = lgbclf.predict_proba(X_train)[:, 1]  \n",
    "\n",
    "train_auc = roc_auc_score(y_train, y_train_lgbm_proba)\n",
    "print(f'Train AUC: {train_auc}')\n",
    "\n",
    "# Probas for test\n",
    "y_test_lgbm_proba = lgbclf.predict_proba(X_test)[:, 1]  \n",
    "test_auc = roc_auc_score(y_test, y_test_lgbm_proba)\n",
    "print(f'Test AUC: {test_auc}')"
   ]
  }
 ],
 "metadata": {
  "language_info": {
   "name": "python"
  }
 },
 "nbformat": 4,
 "nbformat_minor": 2
}
