{
  "cells": [
    {
      "cell_type": "markdown",
      "metadata": {
        "id": "XPoMCuVe_XZN"
      },
      "source": [
        "FEATURES EXPLANATION FOR IEEE ONLINE FRAUD\n",
        "\n",
        "**Transaction Table **\n",
        "\n",
        "TransactionDT: timedelta from a given reference datetime (not an actual timestamp)\n",
        "\n",
        "TransactionAMT: transaction payment amount in USD\n",
        "\n",
        "ProductCD: product code, the product for each transaction\n",
        "\n",
        "card1 - card6: payment card information, such as card type, card category, issue bank, country, etc.\n",
        "\n",
        "addr: address\n",
        "\n",
        "dist: distance\n",
        "\n",
        "P_ and (R__) emaildomain: purchaser and recipient email domain\n",
        "\n",
        "C1-C14: counting, such as how many addresses are found to be associated with the payment card, etc. The actual meaning is masked.\n",
        "\n",
        "D1-D15: timedelta, such as days between previous transaction, etc.\n",
        "\n",
        "M1-M9: match, such as names on card and address, etc.\n",
        "\n",
        "Vxxx: Vesta engineered rich features, including ranking, counting, and other entity relations.\n",
        "\n",
        "**Categorical Features*:\n",
        "\n",
        "ProductCD\n",
        "\n",
        "card1 - card6\n",
        "\n",
        "addr1, addr2\n",
        "\n",
        "P_emaildomain\n",
        "\n",
        "R_emaildomain\n",
        "\n",
        "M1 - M9\n",
        "\n",
        "**Identity Table**\n",
        "\n",
        "Variables in this table are identity information – network connection information (IP, ISP, Proxy, etc) and digital signature (UA/browser/os/version, etc) associated with transactions.\n",
        "They're collected by Vesta’s fraud protection system and digital security partners.\n",
        "(The field names are masked and pairwise dictionary will not be provided for privacy protection and contract agreement)\n",
        "\n",
        "**Categorical Features*:\n",
        "\n",
        "DeviceType\n",
        "\n",
        "DeviceInfo\n",
        "\n",
        "id_12 - id_38"
      ]
    },
    {
      "cell_type": "code",
      "execution_count": 99,
      "metadata": {
        "id": "hVjvCcANS8P1"
      },
      "outputs": [],
      "source": [
        "# important libraries\n",
        "\n",
        "import pandas as pd\n",
        "import numpy as np\n",
        "import matplotlib\n",
        "import matplotlib.pyplot as plt\n",
        "import seaborn as sns\n",
        "import gc\n",
        "from sklearn.preprocessing import StandardScaler, OneHotEncoder\n",
        "from sklearn.compose import ColumnTransformer"
      ]
    },
    {
      "cell_type": "markdown",
      "metadata": {
        "id": "M4b9M29pASy_"
      },
      "source": [
        "The train dataset has already between splitted into 70 : 30 percent train and test dataset. This data preprocessing will be done on only train dataset while the Test dataset will be used in future. Note the train transaction dataset has been merged with Identity transaction dataset before splitting."
      ]
    },
    {
      "cell_type": "code",
      "execution_count": 100,
      "metadata": {
        "id": "4tBXKl_LbtkS"
      },
      "outputs": [],
      "source": [
        "#load datasets\n",
        "df_train = pd.read_csv('train_data.csv')\n",
        "\n"
      ]
    },
    {
      "cell_type": "markdown",
      "metadata": {
        "id": "_64CP-YR3ew8"
      },
      "source": [
        "**DATA EXPLORATION**"
      ]
    },
    {
      "cell_type": "code",
      "execution_count": 80,
      "metadata": {
        "colab": {
          "base_uri": "https://localhost:8080/",
          "height": 192
        },
        "id": "S8ujUDXniNg3",
        "outputId": "a933a00d-aa67-417c-abb5-bec166b25e42"
      },
      "outputs": [
        {
          "data": {
            "text/html": [
              "<div>\n",
              "<style scoped>\n",
              "    .dataframe tbody tr th:only-of-type {\n",
              "        vertical-align: middle;\n",
              "    }\n",
              "\n",
              "    .dataframe tbody tr th {\n",
              "        vertical-align: top;\n",
              "    }\n",
              "\n",
              "    .dataframe thead th {\n",
              "        text-align: right;\n",
              "    }\n",
              "</style>\n",
              "<table border=\"1\" class=\"dataframe\">\n",
              "  <thead>\n",
              "    <tr style=\"text-align: right;\">\n",
              "      <th></th>\n",
              "      <th>TransactionID</th>\n",
              "      <th>TransactionDT</th>\n",
              "      <th>TransactionAmt</th>\n",
              "      <th>ProductCD</th>\n",
              "      <th>card1</th>\n",
              "      <th>card2</th>\n",
              "      <th>card3</th>\n",
              "      <th>card4</th>\n",
              "      <th>card5</th>\n",
              "      <th>card6</th>\n",
              "      <th>...</th>\n",
              "      <th>id_32</th>\n",
              "      <th>id_33</th>\n",
              "      <th>id_34</th>\n",
              "      <th>id_35</th>\n",
              "      <th>id_36</th>\n",
              "      <th>id_37</th>\n",
              "      <th>id_38</th>\n",
              "      <th>DeviceType</th>\n",
              "      <th>DeviceInfo</th>\n",
              "      <th>isFraud</th>\n",
              "    </tr>\n",
              "  </thead>\n",
              "  <tbody>\n",
              "    <tr>\n",
              "      <th>0</th>\n",
              "      <td>2992307</td>\n",
              "      <td>174911</td>\n",
              "      <td>59.000</td>\n",
              "      <td>W</td>\n",
              "      <td>4988</td>\n",
              "      <td>334.0</td>\n",
              "      <td>150.0</td>\n",
              "      <td>visa</td>\n",
              "      <td>226.0</td>\n",
              "      <td>debit</td>\n",
              "      <td>...</td>\n",
              "      <td>NaN</td>\n",
              "      <td>NaN</td>\n",
              "      <td>NaN</td>\n",
              "      <td>NaN</td>\n",
              "      <td>NaN</td>\n",
              "      <td>NaN</td>\n",
              "      <td>NaN</td>\n",
              "      <td>NaN</td>\n",
              "      <td>NaN</td>\n",
              "      <td>0</td>\n",
              "    </tr>\n",
              "    <tr>\n",
              "      <th>1</th>\n",
              "      <td>3178582</td>\n",
              "      <td>4301977</td>\n",
              "      <td>23.378</td>\n",
              "      <td>C</td>\n",
              "      <td>3867</td>\n",
              "      <td>296.0</td>\n",
              "      <td>185.0</td>\n",
              "      <td>visa</td>\n",
              "      <td>226.0</td>\n",
              "      <td>credit</td>\n",
              "      <td>...</td>\n",
              "      <td>NaN</td>\n",
              "      <td>NaN</td>\n",
              "      <td>NaN</td>\n",
              "      <td>F</td>\n",
              "      <td>F</td>\n",
              "      <td>T</td>\n",
              "      <td>F</td>\n",
              "      <td>desktop</td>\n",
              "      <td>NaN</td>\n",
              "      <td>0</td>\n",
              "    </tr>\n",
              "    <tr>\n",
              "      <th>2</th>\n",
              "      <td>3247168</td>\n",
              "      <td>6229929</td>\n",
              "      <td>35.950</td>\n",
              "      <td>W</td>\n",
              "      <td>12577</td>\n",
              "      <td>268.0</td>\n",
              "      <td>150.0</td>\n",
              "      <td>visa</td>\n",
              "      <td>166.0</td>\n",
              "      <td>debit</td>\n",
              "      <td>...</td>\n",
              "      <td>NaN</td>\n",
              "      <td>NaN</td>\n",
              "      <td>NaN</td>\n",
              "      <td>NaN</td>\n",
              "      <td>NaN</td>\n",
              "      <td>NaN</td>\n",
              "      <td>NaN</td>\n",
              "      <td>NaN</td>\n",
              "      <td>NaN</td>\n",
              "      <td>0</td>\n",
              "    </tr>\n",
              "  </tbody>\n",
              "</table>\n",
              "<p>3 rows × 434 columns</p>\n",
              "</div>"
            ],
            "text/plain": [
              "   TransactionID  TransactionDT  TransactionAmt ProductCD  card1  card2   \n",
              "0        2992307         174911          59.000         W   4988  334.0  \\\n",
              "1        3178582        4301977          23.378         C   3867  296.0   \n",
              "2        3247168        6229929          35.950         W  12577  268.0   \n",
              "\n",
              "   card3 card4  card5   card6  ...  id_32  id_33  id_34  id_35 id_36 id_37   \n",
              "0  150.0  visa  226.0   debit  ...    NaN    NaN    NaN    NaN   NaN   NaN  \\\n",
              "1  185.0  visa  226.0  credit  ...    NaN    NaN    NaN      F     F     T   \n",
              "2  150.0  visa  166.0   debit  ...    NaN    NaN    NaN    NaN   NaN   NaN   \n",
              "\n",
              "   id_38  DeviceType  DeviceInfo  isFraud  \n",
              "0    NaN         NaN         NaN        0  \n",
              "1      F     desktop         NaN        0  \n",
              "2    NaN         NaN         NaN        0  \n",
              "\n",
              "[3 rows x 434 columns]"
            ]
          },
          "execution_count": 80,
          "metadata": {},
          "output_type": "execute_result"
        }
      ],
      "source": [
        "# display 5 rows\n",
        "df_train.head(3)"
      ]
    },
    {
      "cell_type": "code",
      "execution_count": 4,
      "metadata": {
        "colab": {
          "base_uri": "https://localhost:8080/"
        },
        "id": "8hJxpIVskXX8",
        "outputId": "b5974eb8-6b70-4b66-bc1f-baf8ea1ab569"
      },
      "outputs": [
        {
          "name": "stdout",
          "output_type": "stream",
          "text": [
            "<class 'pandas.core.frame.DataFrame'>\n",
            "RangeIndex: 472432 entries, 0 to 472431\n",
            "Columns: 434 entries, TransactionID to isFraud\n",
            "dtypes: float64(399), int64(4), object(31)\n",
            "memory usage: 1.5+ GB\n"
          ]
        }
      ],
      "source": [
        "#info dataframe\n",
        "df_train.info()"
      ]
    },
    {
      "cell_type": "code",
      "execution_count": 5,
      "metadata": {
        "colab": {
          "base_uri": "https://localhost:8080/"
        },
        "id": "R1IeE5hglGOh",
        "outputId": "6df5f41b-5b44-4860-e6ed-b88b3a10280a"
      },
      "outputs": [
        {
          "data": {
            "text/plain": [
              "TransactionID          0\n",
              "TransactionDT          0\n",
              "TransactionAmt         0\n",
              "ProductCD              0\n",
              "card1                  0\n",
              "                   ...  \n",
              "id_37             359671\n",
              "id_38             359671\n",
              "DeviceType        359813\n",
              "DeviceInfo        377531\n",
              "isFraud                0\n",
              "Length: 434, dtype: int64"
            ]
          },
          "execution_count": 5,
          "metadata": {},
          "output_type": "execute_result"
        }
      ],
      "source": [
        "#check for null values\n",
        "df_train.isnull().sum()"
      ]
    },
    {
      "cell_type": "code",
      "execution_count": 39,
      "metadata": {
        "colab": {
          "base_uri": "https://localhost:8080/"
        },
        "id": "kiVnInUBm-Ca",
        "outputId": "b5ea981e-99ac-4a2a-b092-c50decf7e644"
      },
      "outputs": [
        {
          "data": {
            "text/plain": [
              "(472432, 434)"
            ]
          },
          "execution_count": 39,
          "metadata": {},
          "output_type": "execute_result"
        }
      ],
      "source": [
        "# to know the number of rows and columns\n",
        "df_train.shape"
      ]
    },
    {
      "cell_type": "markdown",
      "metadata": {
        "id": "fqDXzBBA12iM"
      },
      "source": [
        "**VISUALIZATION**"
      ]
    },
    {
      "cell_type": "code",
      "execution_count": 8,
      "metadata": {
        "colab": {
          "base_uri": "https://localhost:8080/",
          "height": 450
        },
        "id": "vu-DKhCT105_",
        "outputId": "d45b3814-26d0-4c9e-f0b0-5aa108951024"
      },
      "outputs": [
        {
          "data": {
            "image/png": "[encoded data removed]",
            "text/plain": [
              "<Figure size 640x480 with 1 Axes>"
            ]
          },
          "metadata": {},
          "output_type": "display_data"
        }
      ],
      "source": [
        "# data imbalance\n",
        "# Create the countplot\n",
        "sns.countplot(x='isFraud', data=df_train)\n",
        "\n",
        "# Calculate percentages\n",
        "total = len(df_train)\n",
        "fraud_count = df_train['isFraud'].sum()\n",
        "non_fraud_count = total - fraud_count\n",
        "\n",
        "fraud_percentage = (fraud_count / total) * 100\n",
        "non_fraud_percentage = (non_fraud_count / total) * 100\n",
        "\n",
        "# plot with percentages of Fraud and not Fraud in the dataset\n",
        "plt.text(1, fraud_count, f'{fraud_percentage:.2f}%', ha='center', va='bottom', fontsize=12)\n",
        "plt.text(0, non_fraud_count, f'{non_fraud_percentage:.2f}%', ha='center', va='bottom', fontsize=12)\n",
        "\n",
        "plt.show()"
      ]
    },
    {
      "cell_type": "code",
      "execution_count": 9,
      "metadata": {
        "colab": {
          "base_uri": "https://localhost:8080/",
          "height": 501
        },
        "id": "L6o7keAK3FLR",
        "outputId": "a3bca0ae-7600-4252-b919-ae3cde508a72"
      },
      "outputs": [
        {
          "data": {
            "text/plain": [
              "DeviceType\n",
              "desktop    68030\n",
              "mobile     44589\n",
              "Name: count, dtype: int64"
            ]
          },
          "execution_count": 9,
          "metadata": {},
          "output_type": "execute_result"
        },
        {
          "data": {
            "image/png": "[encoded data removed]",
            "text/plain": [
              "<Figure size 640x480 with 1 Axes>"
            ]
          },
          "metadata": {},
          "output_type": "display_data"
        }
      ],
      "source": [
        "# plot type of devices used the most in the train dataset\n",
        "sns.countplot(x=df_train[\"DeviceType\"])\n",
        "\n",
        "df_train['DeviceType'].value_counts()"
      ]
    },
    {
      "cell_type": "code",
      "execution_count": 10,
      "metadata": {
        "colab": {
          "base_uri": "https://localhost:8080/",
          "height": 539
        },
        "id": "YnUYfkB_BqOM",
        "outputId": "38dd0777-9e0d-466a-af21-9c61c23b1e0e"
      },
      "outputs": [
        {
          "name": "stdout",
          "output_type": "stream",
          "text": [
            "DeviceInfo\n",
            "Windows        38119\n",
            "iOS Device     15817\n",
            "MacOS          10078\n",
            "Trident/7.0     5914\n",
            "rv:11.0         1507\n",
            "               ...  \n",
            "GT-S7582L          1\n",
            "LG-H933            1\n",
            "D5306              1\n",
            "STV100-3           1\n",
            "SM-P600            1\n",
            "Name: count, Length: 1693, dtype: int64\n"
          ]
        },
        {
          "data": {
            "image/png": "[encoded data removed]",
            "text/plain": [
              "<Figure size 1000x500 with 1 Axes>"
            ]
          },
          "metadata": {},
          "output_type": "display_data"
        }
      ],
      "source": [
        "# plot the top 10 devices that where used for the transactions in the train dataset\n",
        "\n",
        "most_devices = df_train['DeviceInfo'].value_counts()\n",
        "\n",
        "df_train['DeviceInfo'].value_counts().head(10).plot(kind='barh', figsize=(10, 5), title='Most used devices in Train dataset')\n",
        "\n",
        "print(most_devices)\n",
        "plt.show()\n"
      ]
    },
    {
      "cell_type": "code",
      "execution_count": 11,
      "metadata": {
        "colab": {
          "base_uri": "https://localhost:8080/",
          "height": 553
        },
        "id": "B5ez_cuCB3kS",
        "outputId": "2d41d04a-3acf-4061-9c35-3bd60435a597"
      },
      "outputs": [
        {
          "data": {
            "text/plain": [
              "ProductCD\n",
              "W    351741\n",
              "C     54960\n",
              "R     30139\n",
              "H     26372\n",
              "S      9220\n",
              "Name: count, dtype: int64"
            ]
          },
          "execution_count": 11,
          "metadata": {},
          "output_type": "execute_result"
        },
        {
          "data": {
            "image/png": "[encoded data removed]",
            "text/plain": [
              "<Figure size 640x480 with 1 Axes>"
            ]
          },
          "metadata": {},
          "output_type": "display_data"
        }
      ],
      "source": [
        "# plot the Prodcut code for each train dataset\n",
        "sns.countplot(x=df_train['ProductCD'])\n",
        "\n",
        "df_train['ProductCD'].value_counts()"
      ]
    },
    {
      "cell_type": "code",
      "execution_count": 12,
      "metadata": {
        "colab": {
          "base_uri": "https://localhost:8080/",
          "height": 570
        },
        "id": "nf93YG41F421",
        "outputId": "1fec2802-735c-418c-f7ed-a661a326d88e"
      },
      "outputs": [
        {
          "name": "stdout",
          "output_type": "stream",
          "text": [
            "ProductCD\n",
            "C    6336\n",
            "H    1254\n",
            "R    1121\n",
            "S     532\n",
            "W    7178\n",
            "Name: isFraud, dtype: int64\n"
          ]
        },
        {
          "data": {
            "image/png": "[encoded data removed]",
            "text/plain": [
              "<Figure size 640x480 with 1 Axes>"
            ]
          },
          "metadata": {},
          "output_type": "display_data"
        }
      ],
      "source": [
        "# plot number of ProductDC that were declared fraud in the train dataset\n",
        "sns.countplot(data=df_train,x='ProductCD',hue='isFraud')\n",
        "\n",
        "isfraud_ProdCD = df_train.groupby(\"ProductCD\")[\"isFraud\"].sum()\n",
        "\n",
        "print(isfraud_ProdCD)\n",
        "plt.show()\n",
        "\n"
      ]
    },
    {
      "cell_type": "code",
      "execution_count": 13,
      "metadata": {
        "colab": {
          "base_uri": "https://localhost:8080/",
          "height": 536
        },
        "id": "_9lxpO2QI4Ez",
        "outputId": "b57d0d96-14e8-4133-d334-91eb2ae81815"
      },
      "outputs": [
        {
          "data": {
            "text/plain": [
              "card4\n",
              "visa                308015\n",
              "mastercard          151119\n",
              "american express      6695\n",
              "discover              5340\n",
              "Name: count, dtype: int64"
            ]
          },
          "execution_count": 13,
          "metadata": {},
          "output_type": "execute_result"
        },
        {
          "data": {
            "image/png": "[encoded data removed]",
            "text/plain": [
              "<Figure size 640x480 with 1 Axes>"
            ]
          },
          "metadata": {},
          "output_type": "display_data"
        }
      ],
      "source": [
        "# to show the most used Brand of electronic cards for transaction in the train dataset\n",
        "sns.countplot(x=df_train[\"card4\"])\n",
        "\n",
        "df_train[\"card4\"].value_counts()"
      ]
    },
    {
      "cell_type": "code",
      "execution_count": 14,
      "metadata": {
        "colab": {
          "base_uri": "https://localhost:8080/",
          "height": 536
        },
        "id": "fZDYUsmIJgbe",
        "outputId": "d0caa0b1-7c42-43ed-b51e-a42aac6b89b1"
      },
      "outputs": [
        {
          "data": {
            "text/plain": [
              "card6\n",
              "debit              351947\n",
              "credit             119193\n",
              "debit or credit        24\n",
              "charge card            10\n",
              "Name: count, dtype: int64"
            ]
          },
          "execution_count": 14,
          "metadata": {},
          "output_type": "execute_result"
        },
        {
          "data": {
            "image/png": "[encoded data removed]",
            "text/plain": [
              "<Figure size 640x480 with 1 Axes>"
            ]
          },
          "metadata": {},
          "output_type": "display_data"
        }
      ],
      "source": [
        "# to show the most used electronic cards (debit or credit) for transaction in the train dataset\n",
        "sns.countplot(x=df_train[\"card6\"])\n",
        "\n",
        "df_train[\"card6\"].value_counts()"
      ]
    },
    {
      "cell_type": "code",
      "execution_count": 15,
      "metadata": {
        "colab": {
          "base_uri": "https://localhost:8080/",
          "height": 551
        },
        "id": "Qx9gePt4KcTE",
        "outputId": "4546b1a7-9df9-46f7-daa6-b4c999466afe"
      },
      "outputs": [
        {
          "data": {
            "text/plain": [
              "P_emaildomain\n",
              "gmail.com        182797\n",
              "yahoo.com         80828\n",
              "hotmail.com       36331\n",
              "anonymous.com     29588\n",
              "aol.com           22503\n",
              "comcast.net        6332\n",
              "icloud.com         5007\n",
              "outlook.com        4039\n",
              "msn.com            3264\n",
              "att.net            3238\n",
              "Name: count, dtype: int64"
            ]
          },
          "execution_count": 15,
          "metadata": {},
          "output_type": "execute_result"
        },
        {
          "data": {
            "image/png": "[encoded data removed]",
            "text/plain": [
              "<Figure size 1000x500 with 1 Axes>"
            ]
          },
          "metadata": {},
          "output_type": "display_data"
        }
      ],
      "source": [
        "# to show the most used email domain for registration by the Purchaser\n",
        "df_train['P_emaildomain'].value_counts().head(10).plot(kind='barh', figsize=(10, 5), title='Most registered Puschaser email in the Train dataset')\n",
        "\n",
        "df_train['P_emaildomain'].value_counts()[:10]"
      ]
    },
    {
      "cell_type": "code",
      "execution_count": 16,
      "metadata": {
        "colab": {
          "base_uri": "https://localhost:8080/",
          "height": 551
        },
        "id": "cKGWgI96Mcw8",
        "outputId": "f97887ac-f714-4ca0-f780-85c7bb0f2ec0"
      },
      "outputs": [
        {
          "data": {
            "text/plain": [
              "R_emaildomain\n",
              "gmail.com        45627\n",
              "hotmail.com      22062\n",
              "anonymous.com    16446\n",
              "yahoo.com         9504\n",
              "aol.com           2962\n",
              "outlook.com       1998\n",
              "comcast.net       1447\n",
              "yahoo.com.mx      1208\n",
              "icloud.com        1109\n",
              "msn.com            665\n",
              "Name: count, dtype: int64"
            ]
          },
          "execution_count": 16,
          "metadata": {},
          "output_type": "execute_result"
        },
        {
          "data": {
            "image/png": "[encoded data removed]",
            "text/plain": [
              "<Figure size 1000x500 with 1 Axes>"
            ]
          },
          "metadata": {},
          "output_type": "display_data"
        }
      ],
      "source": [
        "# to show the most used email domain for registration by the Recipient\n",
        "df_train['R_emaildomain'].value_counts().head(10).plot(kind='barh', figsize=(10, 5), title='Most registered Recipient email in the Train dataset')\n",
        "\n",
        "df_train['R_emaildomain'].value_counts()[:10]"
      ]
    },
    {
      "cell_type": "code",
      "execution_count": 17,
      "metadata": {
        "id": "BBsmQhuFNNKg"
      },
      "outputs": [
        {
          "name": "stdout",
          "output_type": "stream",
          "text": [
            "P_emaildomain\n",
            "gmail.com           7937\n",
            "hotmail.com         1878\n",
            "yahoo.com           1829\n",
            "anonymous.com        687\n",
            "aol.com              483\n",
            "outlook.com          387\n",
            "comcast.net          200\n",
            "icloud.com           152\n",
            "mail.com              80\n",
            "live.com              70\n",
            "msn.com               68\n",
            "outlook.es            47\n",
            "ymail.com             46\n",
            "bellsouth.net         45\n",
            "aim.com               34\n",
            "live.com.mx           29\n",
            "cox.net               26\n",
            "protonmail.com        25\n",
            "me.com                22\n",
            "att.net               22\n",
            "charter.net           22\n",
            "verizon.net           17\n",
            "hotmail.es            17\n",
            "optonline.net         13\n",
            "yahoo.com.mx          12\n",
            "sbcglobal.net         10\n",
            "mac.com               10\n",
            "earthlink.net          9\n",
            "gmail                  8\n",
            "embarqmail.com         7\n",
            "frontier.com           7\n",
            "juno.com               5\n",
            "yahoo.fr               4\n",
            "cableone.net           3\n",
            "frontiernet.net        3\n",
            "suddenlink.net         3\n",
            "roadrunner.com         3\n",
            "yahoo.es               2\n",
            "rocketmail.com         2\n",
            "prodigy.net.mx         1\n",
            "sc.rr.com              1\n",
            "netzero.net            1\n",
            "yahoo.co.jp            0\n",
            "yahoo.co.uk            0\n",
            "gmx.de                 0\n",
            "hotmail.co.uk          0\n",
            "web.de                 0\n",
            "yahoo.de               0\n",
            "windstream.net         0\n",
            "centurylink.net        0\n",
            "hotmail.de             0\n",
            "twc.com                0\n",
            "netzero.com            0\n",
            "hotmail.fr             0\n",
            "q.com                  0\n",
            "ptd.net                0\n",
            "live.fr                0\n",
            "cfl.rr.com             0\n",
            "servicios-ta.com       0\n",
            "Name: isFraud, dtype: int64\n"
          ]
        }
      ],
      "source": [
        "#Count of how many times emails where used\n",
        "isfraud_ProdCD = df_train.groupby(\"P_emaildomain\")[\"isFraud\"].sum().sort_values(ascending=False)\n",
        "print(isfraud_ProdCD)\n"
      ]
    },
    {
      "cell_type": "code",
      "execution_count": 18,
      "metadata": {
        "colab": {
          "base_uri": "https://localhost:8080/"
        },
        "id": "50KauzEPOPXh",
        "outputId": "2782d243-ee76-4831-813a-e0ed3634b4ee"
      },
      "outputs": [
        {
          "name": "stdout",
          "output_type": "stream",
          "text": [
            "P_emaildomain\n",
            "gmail.com        7937\n",
            "hotmail.com      1878\n",
            "yahoo.com        1829\n",
            "anonymous.com     687\n",
            "aol.com           483\n",
            "outlook.com       387\n",
            "comcast.net       200\n",
            "icloud.com        152\n",
            "mail.com           80\n",
            "live.com           70\n",
            "Name: isFraud, dtype: int64\n"
          ]
        }
      ],
      "source": [
        "#top 10 emails used\n",
        "isfraud_ProdCD = df_train.groupby(\"P_emaildomain\")[\"isFraud\"].sum().sort_values(ascending=False)\n",
        "top_10 = isfraud_ProdCD.head(10)\n",
        "print(top_10)"
      ]
    },
    {
      "cell_type": "code",
      "execution_count": 19,
      "metadata": {
        "colab": {
          "base_uri": "https://localhost:8080/",
          "height": 366
        },
        "id": "-dKQRDcQUwGt",
        "outputId": "d0913738-3601-48df-845a-6abcbf102fc9"
      },
      "outputs": [
        {
          "data": {
            "image/png": "[encoded data removed]",
            "text/plain": [
              "<Figure size 1000x500 with 1 Axes>"
            ]
          },
          "metadata": {},
          "output_type": "display_data"
        }
      ],
      "source": [
        "# Get the top 10 P_emaildomain values by count\n",
        "top_10_P_emaildomains = df_train['P_emaildomain'].value_counts().head(10).index\n",
        "\n",
        "# Filter the data to include only the top 10 P_emaildomain values\n",
        "filtered_data = df_train[df_train['P_emaildomain'].isin(top_10_P_emaildomains)]\n",
        "\n",
        "sns.set(style=\"whitegrid\")\n",
        "plt.figure(figsize=(10, 5))\n",
        "\n",
        "sns.countplot(data=filtered_data, y='P_emaildomain', hue='isFraud')\n",
        "plt.xlabel('Count')\n",
        "plt.ylabel('Purchaser email')\n",
        "plt.title('Count of isFraud by Purchaser email (Top 10)')\n",
        "plt.show()\n",
        "\n"
      ]
    },
    {
      "cell_type": "markdown",
      "metadata": {
        "id": "c9JrjDfwS0vZ"
      },
      "source": [
        "Handling missing values"
      ]
    },
    {
      "cell_type": "code",
      "execution_count": 102,
      "metadata": {
        "colab": {
          "base_uri": "https://localhost:8080/",
          "height": 196
        },
        "id": "gDcDUdgxR7QA",
        "outputId": "d1b45b95-94fe-4818-bb6f-b5dd33149c63"
      },
      "outputs": [
        {
          "data": {
            "text/html": [
              "<div>\n",
              "<style scoped>\n",
              "    .dataframe tbody tr th:only-of-type {\n",
              "        vertical-align: middle;\n",
              "    }\n",
              "\n",
              "    .dataframe tbody tr th {\n",
              "        vertical-align: top;\n",
              "    }\n",
              "\n",
              "    .dataframe thead th {\n",
              "        text-align: right;\n",
              "    }\n",
              "</style>\n",
              "<table border=\"1\" class=\"dataframe\">\n",
              "  <thead>\n",
              "    <tr style=\"text-align: right;\">\n",
              "      <th></th>\n",
              "      <th></th>\n",
              "      <th>TransactionID</th>\n",
              "      <th>TransactionDT</th>\n",
              "      <th>TransactionAmt</th>\n",
              "      <th>ProductCD</th>\n",
              "      <th>card1</th>\n",
              "      <th>card2</th>\n",
              "      <th>card3</th>\n",
              "      <th>card4</th>\n",
              "      <th>card5</th>\n",
              "      <th>card6</th>\n",
              "      <th>...</th>\n",
              "      <th>id_32</th>\n",
              "      <th>id_33</th>\n",
              "      <th>id_34</th>\n",
              "      <th>id_35</th>\n",
              "      <th>id_36</th>\n",
              "      <th>id_37</th>\n",
              "      <th>id_38</th>\n",
              "      <th>DeviceType</th>\n",
              "      <th>DeviceInfo</th>\n",
              "      <th>isFraud</th>\n",
              "    </tr>\n",
              "  </thead>\n",
              "  <tbody>\n",
              "    <tr>\n",
              "      <th>Total Missing Values</th>\n",
              "      <th>0</th>\n",
              "      <td>0.0</td>\n",
              "      <td>0.0</td>\n",
              "      <td>0.0</td>\n",
              "      <td>0.0</td>\n",
              "      <td>0.0</td>\n",
              "      <td>7178.00</td>\n",
              "      <td>1253.00</td>\n",
              "      <td>1263.00</td>\n",
              "      <td>3399.00</td>\n",
              "      <td>1258.00</td>\n",
              "      <td>...</td>\n",
              "      <td>410511.00</td>\n",
              "      <td>413899.00</td>\n",
              "      <td>410311.00</td>\n",
              "      <td>359671.00</td>\n",
              "      <td>359671.00</td>\n",
              "      <td>359671.00</td>\n",
              "      <td>359671.00</td>\n",
              "      <td>359813.00</td>\n",
              "      <td>377531.00</td>\n",
              "      <td>0.0</td>\n",
              "    </tr>\n",
              "    <tr>\n",
              "      <th>Percent</th>\n",
              "      <th>0</th>\n",
              "      <td>0.0</td>\n",
              "      <td>0.0</td>\n",
              "      <td>0.0</td>\n",
              "      <td>0.0</td>\n",
              "      <td>0.0</td>\n",
              "      <td>1.52</td>\n",
              "      <td>0.27</td>\n",
              "      <td>0.27</td>\n",
              "      <td>0.72</td>\n",
              "      <td>0.27</td>\n",
              "      <td>...</td>\n",
              "      <td>86.89</td>\n",
              "      <td>87.61</td>\n",
              "      <td>86.85</td>\n",
              "      <td>76.13</td>\n",
              "      <td>76.13</td>\n",
              "      <td>76.13</td>\n",
              "      <td>76.13</td>\n",
              "      <td>76.16</td>\n",
              "      <td>79.91</td>\n",
              "      <td>0.0</td>\n",
              "    </tr>\n",
              "  </tbody>\n",
              "</table>\n",
              "<p>2 rows × 434 columns</p>\n",
              "</div>"
            ],
            "text/plain": [
              "                        TransactionID  TransactionDT  TransactionAmt   \n",
              "Total Missing Values 0            0.0            0.0             0.0  \\\n",
              "Percent              0            0.0            0.0             0.0   \n",
              "\n",
              "                        ProductCD  card1    card2    card3    card4    card5   \n",
              "Total Missing Values 0        0.0    0.0  7178.00  1253.00  1263.00  3399.00  \\\n",
              "Percent              0        0.0    0.0     1.52     0.27     0.27     0.72   \n",
              "\n",
              "                          card6  ...      id_32      id_33      id_34   \n",
              "Total Missing Values 0  1258.00  ...  410511.00  413899.00  410311.00  \\\n",
              "Percent              0     0.27  ...      86.89      87.61      86.85   \n",
              "\n",
              "                            id_35      id_36      id_37      id_38   \n",
              "Total Missing Values 0  359671.00  359671.00  359671.00  359671.00  \\\n",
              "Percent              0      76.13      76.13      76.13      76.13   \n",
              "\n",
              "                        DeviceType  DeviceInfo  isFraud  \n",
              "Total Missing Values 0   359813.00   377531.00      0.0  \n",
              "Percent              0       76.16       79.91      0.0  \n",
              "\n",
              "[2 rows x 434 columns]"
            ]
          },
          "execution_count": 102,
          "metadata": {},
          "output_type": "execute_result"
        }
      ],
      "source": [
        "# to know the % and total number of missing values in each colum\n",
        "missing_train = df_train.isnull().sum().to_frame()\n",
        "percent_missing = (df_train.isnull().sum()/df_train.isnull().count()*100).round(2) # round to 2 decimal places\n",
        "\n",
        "pd.concat([missing_train, percent_missing], axis=1, keys=['Total Missing Values', 'Percent']).transpose()"
      ]
    },
    {
      "cell_type": "markdown",
      "metadata": {},
      "source": [
        "DROP FEATURES WITH MORE THAN 70% MISSING VALUES"
      ]
    },
    {
      "cell_type": "code",
      "execution_count": 103,
      "metadata": {},
      "outputs": [],
      "source": [
        "# Set a threshold for the percentage of missing values to drop columns\n",
        "threshold = 70\n",
        "\n",
        "# Find columns with missing values exceeding the threshold\n",
        "columns_to_drop = percent_missing[percent_missing > threshold].index\n",
        "\n",
        "# Drop the columns with excessive missing values\n",
        "df_train = df_train.drop(columns=columns_to_drop)"
      ]
    },
    {
      "cell_type": "code",
      "execution_count": 104,
      "metadata": {},
      "outputs": [
        {
          "data": {
            "text/html": [
              "<div>\n",
              "<style scoped>\n",
              "    .dataframe tbody tr th:only-of-type {\n",
              "        vertical-align: middle;\n",
              "    }\n",
              "\n",
              "    .dataframe tbody tr th {\n",
              "        vertical-align: top;\n",
              "    }\n",
              "\n",
              "    .dataframe thead th {\n",
              "        text-align: right;\n",
              "    }\n",
              "</style>\n",
              "<table border=\"1\" class=\"dataframe\">\n",
              "  <thead>\n",
              "    <tr style=\"text-align: right;\">\n",
              "      <th></th>\n",
              "      <th>TransactionID</th>\n",
              "      <th>TransactionDT</th>\n",
              "      <th>TransactionAmt</th>\n",
              "      <th>ProductCD</th>\n",
              "      <th>card1</th>\n",
              "      <th>card2</th>\n",
              "      <th>card3</th>\n",
              "      <th>card4</th>\n",
              "      <th>card5</th>\n",
              "      <th>card6</th>\n",
              "      <th>...</th>\n",
              "      <th>V313</th>\n",
              "      <th>V314</th>\n",
              "      <th>V315</th>\n",
              "      <th>V316</th>\n",
              "      <th>V317</th>\n",
              "      <th>V318</th>\n",
              "      <th>V319</th>\n",
              "      <th>V320</th>\n",
              "      <th>V321</th>\n",
              "      <th>isFraud</th>\n",
              "    </tr>\n",
              "  </thead>\n",
              "  <tbody>\n",
              "    <tr>\n",
              "      <th>0</th>\n",
              "      <td>2992307</td>\n",
              "      <td>174911</td>\n",
              "      <td>59.000</td>\n",
              "      <td>W</td>\n",
              "      <td>4988</td>\n",
              "      <td>334.0</td>\n",
              "      <td>150.0</td>\n",
              "      <td>visa</td>\n",
              "      <td>226.0</td>\n",
              "      <td>debit</td>\n",
              "      <td>...</td>\n",
              "      <td>0.000000</td>\n",
              "      <td>0.000000</td>\n",
              "      <td>0.000000</td>\n",
              "      <td>0.0</td>\n",
              "      <td>0.0</td>\n",
              "      <td>0.0</td>\n",
              "      <td>0.0</td>\n",
              "      <td>0.000000</td>\n",
              "      <td>0.000000</td>\n",
              "      <td>0</td>\n",
              "    </tr>\n",
              "    <tr>\n",
              "      <th>1</th>\n",
              "      <td>3178582</td>\n",
              "      <td>4301977</td>\n",
              "      <td>23.378</td>\n",
              "      <td>C</td>\n",
              "      <td>3867</td>\n",
              "      <td>296.0</td>\n",
              "      <td>185.0</td>\n",
              "      <td>visa</td>\n",
              "      <td>226.0</td>\n",
              "      <td>credit</td>\n",
              "      <td>...</td>\n",
              "      <td>0.000000</td>\n",
              "      <td>0.000000</td>\n",
              "      <td>0.000000</td>\n",
              "      <td>0.0</td>\n",
              "      <td>0.0</td>\n",
              "      <td>0.0</td>\n",
              "      <td>0.0</td>\n",
              "      <td>0.000000</td>\n",
              "      <td>0.000000</td>\n",
              "      <td>0</td>\n",
              "    </tr>\n",
              "    <tr>\n",
              "      <th>2</th>\n",
              "      <td>3247168</td>\n",
              "      <td>6229929</td>\n",
              "      <td>35.950</td>\n",
              "      <td>W</td>\n",
              "      <td>12577</td>\n",
              "      <td>268.0</td>\n",
              "      <td>150.0</td>\n",
              "      <td>visa</td>\n",
              "      <td>166.0</td>\n",
              "      <td>debit</td>\n",
              "      <td>...</td>\n",
              "      <td>35.950001</td>\n",
              "      <td>35.950001</td>\n",
              "      <td>35.950001</td>\n",
              "      <td>0.0</td>\n",
              "      <td>0.0</td>\n",
              "      <td>0.0</td>\n",
              "      <td>0.0</td>\n",
              "      <td>34.950001</td>\n",
              "      <td>34.950001</td>\n",
              "      <td>0</td>\n",
              "    </tr>\n",
              "    <tr>\n",
              "      <th>3</th>\n",
              "      <td>3005516</td>\n",
              "      <td>497176</td>\n",
              "      <td>100.000</td>\n",
              "      <td>R</td>\n",
              "      <td>6019</td>\n",
              "      <td>583.0</td>\n",
              "      <td>150.0</td>\n",
              "      <td>visa</td>\n",
              "      <td>226.0</td>\n",
              "      <td>credit</td>\n",
              "      <td>...</td>\n",
              "      <td>0.000000</td>\n",
              "      <td>0.000000</td>\n",
              "      <td>0.000000</td>\n",
              "      <td>0.0</td>\n",
              "      <td>0.0</td>\n",
              "      <td>0.0</td>\n",
              "      <td>0.0</td>\n",
              "      <td>0.000000</td>\n",
              "      <td>0.000000</td>\n",
              "      <td>0</td>\n",
              "    </tr>\n",
              "    <tr>\n",
              "      <th>4</th>\n",
              "      <td>3034538</td>\n",
              "      <td>1124702</td>\n",
              "      <td>75.000</td>\n",
              "      <td>H</td>\n",
              "      <td>16075</td>\n",
              "      <td>514.0</td>\n",
              "      <td>150.0</td>\n",
              "      <td>mastercard</td>\n",
              "      <td>102.0</td>\n",
              "      <td>credit</td>\n",
              "      <td>...</td>\n",
              "      <td>0.000000</td>\n",
              "      <td>0.000000</td>\n",
              "      <td>0.000000</td>\n",
              "      <td>0.0</td>\n",
              "      <td>0.0</td>\n",
              "      <td>0.0</td>\n",
              "      <td>0.0</td>\n",
              "      <td>0.000000</td>\n",
              "      <td>0.000000</td>\n",
              "      <td>0</td>\n",
              "    </tr>\n",
              "  </tbody>\n",
              "</table>\n",
              "<p>5 rows × 226 columns</p>\n",
              "</div>"
            ],
            "text/plain": [
              "   TransactionID  TransactionDT  TransactionAmt ProductCD  card1  card2   \n",
              "0        2992307         174911          59.000         W   4988  334.0  \\\n",
              "1        3178582        4301977          23.378         C   3867  296.0   \n",
              "2        3247168        6229929          35.950         W  12577  268.0   \n",
              "3        3005516         497176         100.000         R   6019  583.0   \n",
              "4        3034538        1124702          75.000         H  16075  514.0   \n",
              "\n",
              "   card3       card4  card5   card6  ...       V313       V314       V315   \n",
              "0  150.0        visa  226.0   debit  ...   0.000000   0.000000   0.000000  \\\n",
              "1  185.0        visa  226.0  credit  ...   0.000000   0.000000   0.000000   \n",
              "2  150.0        visa  166.0   debit  ...  35.950001  35.950001  35.950001   \n",
              "3  150.0        visa  226.0  credit  ...   0.000000   0.000000   0.000000   \n",
              "4  150.0  mastercard  102.0  credit  ...   0.000000   0.000000   0.000000   \n",
              "\n",
              "  V316  V317  V318  V319       V320       V321  isFraud  \n",
              "0  0.0   0.0   0.0   0.0   0.000000   0.000000        0  \n",
              "1  0.0   0.0   0.0   0.0   0.000000   0.000000        0  \n",
              "2  0.0   0.0   0.0   0.0  34.950001  34.950001        0  \n",
              "3  0.0   0.0   0.0   0.0   0.000000   0.000000        0  \n",
              "4  0.0   0.0   0.0   0.0   0.000000   0.000000        0  \n",
              "\n",
              "[5 rows x 226 columns]"
            ]
          },
          "execution_count": 104,
          "metadata": {},
          "output_type": "execute_result"
        }
      ],
      "source": [
        "df_train.head(5)"
      ]
    },
    {
      "cell_type": "code",
      "execution_count": 23,
      "metadata": {},
      "outputs": [
        {
          "data": {
            "image/png": "[encoded data removed]",
            "text/plain": [
              "<Figure size 1600x800 with 1 Axes>"
            ]
          },
          "metadata": {},
          "output_type": "display_data"
        }
      ],
      "source": [
        "# Due to big data set, the plot does not show factual visualization\n",
        "'''\n",
        "# Assuming df_train is your dataframe\n",
        "# You can replace it with your actual dataframe name\n",
        "df_train_numeric = df_train.select_dtypes(include=[np.number])\n",
        "\n",
        "# Set the size of the plot\n",
        "plt.figure(figsize=(16, 8))\n",
        "\n",
        "# Create box plots for each numerical column\n",
        "sns.boxplot(data=df_train_numeric)\n",
        "\n",
        "# Set the title and labels\n",
        "plt.title('Box Plot for Numerical Columns')\n",
        "plt.xlabel('Numerical Columns')\n",
        "plt.ylabel('Values')\n",
        "\n",
        "# Show the plot\n",
        "plt.show()\n",
        "'''"
      ]
    },
    {
      "cell_type": "code",
      "execution_count": 27,
      "metadata": {},
      "outputs": [
        {
          "data": {
            "text/html": [
              "<div>\n",
              "<style scoped>\n",
              "    .dataframe tbody tr th:only-of-type {\n",
              "        vertical-align: middle;\n",
              "    }\n",
              "\n",
              "    .dataframe tbody tr th {\n",
              "        vertical-align: top;\n",
              "    }\n",
              "\n",
              "    .dataframe thead th {\n",
              "        text-align: right;\n",
              "    }\n",
              "</style>\n",
              "<table border=\"1\" class=\"dataframe\">\n",
              "  <thead>\n",
              "    <tr style=\"text-align: right;\">\n",
              "      <th></th>\n",
              "      <th>TransactionID</th>\n",
              "      <th>TransactionDT</th>\n",
              "      <th>TransactionAmt</th>\n",
              "      <th>ProductCD</th>\n",
              "      <th>card1</th>\n",
              "      <th>card2</th>\n",
              "      <th>card3</th>\n",
              "      <th>card4</th>\n",
              "      <th>card5</th>\n",
              "      <th>card6</th>\n",
              "      <th>...</th>\n",
              "      <th>id_32</th>\n",
              "      <th>id_33</th>\n",
              "      <th>id_34</th>\n",
              "      <th>id_35</th>\n",
              "      <th>id_36</th>\n",
              "      <th>id_37</th>\n",
              "      <th>id_38</th>\n",
              "      <th>DeviceType</th>\n",
              "      <th>DeviceInfo</th>\n",
              "      <th>isFraud</th>\n",
              "    </tr>\n",
              "  </thead>\n",
              "  <tbody>\n",
              "    <tr>\n",
              "      <th>5</th>\n",
              "      <td>3049390</td>\n",
              "      <td>1428785</td>\n",
              "      <td>47.95</td>\n",
              "      <td>W</td>\n",
              "      <td>6019</td>\n",
              "      <td>583.0</td>\n",
              "      <td>150.0</td>\n",
              "      <td>visa</td>\n",
              "      <td>226.0</td>\n",
              "      <td>credit</td>\n",
              "      <td>...</td>\n",
              "      <td>NaN</td>\n",
              "      <td>NaN</td>\n",
              "      <td>NaN</td>\n",
              "      <td>NaN</td>\n",
              "      <td>NaN</td>\n",
              "      <td>NaN</td>\n",
              "      <td>NaN</td>\n",
              "      <td>NaN</td>\n",
              "      <td>NaN</td>\n",
              "      <td>0</td>\n",
              "    </tr>\n",
              "    <tr>\n",
              "      <th>9</th>\n",
              "      <td>3310478</td>\n",
              "      <td>8015970</td>\n",
              "      <td>39.00</td>\n",
              "      <td>W</td>\n",
              "      <td>8691</td>\n",
              "      <td>599.0</td>\n",
              "      <td>150.0</td>\n",
              "      <td>visa</td>\n",
              "      <td>166.0</td>\n",
              "      <td>debit</td>\n",
              "      <td>...</td>\n",
              "      <td>NaN</td>\n",
              "      <td>NaN</td>\n",
              "      <td>NaN</td>\n",
              "      <td>NaN</td>\n",
              "      <td>NaN</td>\n",
              "      <td>NaN</td>\n",
              "      <td>NaN</td>\n",
              "      <td>NaN</td>\n",
              "      <td>NaN</td>\n",
              "      <td>0</td>\n",
              "    </tr>\n",
              "    <tr>\n",
              "      <th>26</th>\n",
              "      <td>3294997</td>\n",
              "      <td>7665575</td>\n",
              "      <td>40.00</td>\n",
              "      <td>W</td>\n",
              "      <td>3605</td>\n",
              "      <td>514.0</td>\n",
              "      <td>150.0</td>\n",
              "      <td>mastercard</td>\n",
              "      <td>224.0</td>\n",
              "      <td>debit</td>\n",
              "      <td>...</td>\n",
              "      <td>NaN</td>\n",
              "      <td>NaN</td>\n",
              "      <td>NaN</td>\n",
              "      <td>NaN</td>\n",
              "      <td>NaN</td>\n",
              "      <td>NaN</td>\n",
              "      <td>NaN</td>\n",
              "      <td>NaN</td>\n",
              "      <td>NaN</td>\n",
              "      <td>0</td>\n",
              "    </tr>\n",
              "    <tr>\n",
              "      <th>43</th>\n",
              "      <td>3231464</td>\n",
              "      <td>5799745</td>\n",
              "      <td>117.00</td>\n",
              "      <td>W</td>\n",
              "      <td>13481</td>\n",
              "      <td>199.0</td>\n",
              "      <td>150.0</td>\n",
              "      <td>mastercard</td>\n",
              "      <td>224.0</td>\n",
              "      <td>debit</td>\n",
              "      <td>...</td>\n",
              "      <td>NaN</td>\n",
              "      <td>NaN</td>\n",
              "      <td>NaN</td>\n",
              "      <td>NaN</td>\n",
              "      <td>NaN</td>\n",
              "      <td>NaN</td>\n",
              "      <td>NaN</td>\n",
              "      <td>NaN</td>\n",
              "      <td>NaN</td>\n",
              "      <td>0</td>\n",
              "    </tr>\n",
              "    <tr>\n",
              "      <th>45</th>\n",
              "      <td>3532725</td>\n",
              "      <td>14407256</td>\n",
              "      <td>87.95</td>\n",
              "      <td>W</td>\n",
              "      <td>5374</td>\n",
              "      <td>170.0</td>\n",
              "      <td>150.0</td>\n",
              "      <td>mastercard</td>\n",
              "      <td>117.0</td>\n",
              "      <td>debit</td>\n",
              "      <td>...</td>\n",
              "      <td>NaN</td>\n",
              "      <td>NaN</td>\n",
              "      <td>NaN</td>\n",
              "      <td>NaN</td>\n",
              "      <td>NaN</td>\n",
              "      <td>NaN</td>\n",
              "      <td>NaN</td>\n",
              "      <td>NaN</td>\n",
              "      <td>NaN</td>\n",
              "      <td>0</td>\n",
              "    </tr>\n",
              "  </tbody>\n",
              "</table>\n",
              "<p>5 rows × 434 columns</p>\n",
              "</div>"
            ],
            "text/plain": [
              "    TransactionID  TransactionDT  TransactionAmt ProductCD  card1  card2   \n",
              "5         3049390        1428785           47.95         W   6019  583.0  \\\n",
              "9         3310478        8015970           39.00         W   8691  599.0   \n",
              "26        3294997        7665575           40.00         W   3605  514.0   \n",
              "43        3231464        5799745          117.00         W  13481  199.0   \n",
              "45        3532725       14407256           87.95         W   5374  170.0   \n",
              "\n",
              "    card3       card4  card5   card6  ...  id_32  id_33  id_34  id_35 id_36   \n",
              "5   150.0        visa  226.0  credit  ...    NaN    NaN    NaN    NaN   NaN  \\\n",
              "9   150.0        visa  166.0   debit  ...    NaN    NaN    NaN    NaN   NaN   \n",
              "26  150.0  mastercard  224.0   debit  ...    NaN    NaN    NaN    NaN   NaN   \n",
              "43  150.0  mastercard  224.0   debit  ...    NaN    NaN    NaN    NaN   NaN   \n",
              "45  150.0  mastercard  117.0   debit  ...    NaN    NaN    NaN    NaN   NaN   \n",
              "\n",
              "   id_37  id_38  DeviceType  DeviceInfo  isFraud  \n",
              "5    NaN    NaN         NaN         NaN        0  \n",
              "9    NaN    NaN         NaN         NaN        0  \n",
              "26   NaN    NaN         NaN         NaN        0  \n",
              "43   NaN    NaN         NaN         NaN        0  \n",
              "45   NaN    NaN         NaN         NaN        0  \n",
              "\n",
              "[5 rows x 434 columns]"
            ]
          },
          "execution_count": 27,
          "metadata": {},
          "output_type": "execute_result"
        }
      ],
      "source": [
        "df_train.head()"
      ]
    },
    {
      "cell_type": "code",
      "execution_count": 28,
      "metadata": {},
      "outputs": [
        {
          "data": {
            "text/plain": [
              "(53275, 434)"
            ]
          },
          "execution_count": 28,
          "metadata": {},
          "output_type": "execute_result"
        }
      ],
      "source": [
        "df_train.shape"
      ]
    },
    {
      "cell_type": "code",
      "execution_count": null,
      "metadata": {
        "id": "ykBuBnpeR8YY"
      },
      "outputs": [],
      "source": [
        "# Handling missing numerical values in Train data\n",
        "\n",
        "# for i in df_train.columns:\n",
        "#    if df_train[i].dtypes=='int64' or df_train[i].dtypes=='float64':\n",
        "#        df_train[i].fillna(df_train[i].mean(),inplace=True)"
      ]
    },
    {
      "cell_type": "code",
      "execution_count": null,
      "metadata": {
        "id": "1t4sAa1YSJd8"
      },
      "outputs": [],
      "source": [
        "# Handling missing categorical values in Train data\n",
        "#for i in df_train.columns:\n",
        "#    if df_train[i].dtypes=='object':\n",
        "#        df_train[i].fillna(df_train[i].mode()[0],inplace=True)"
      ]
    },
    {
      "cell_type": "code",
      "execution_count": 61,
      "metadata": {},
      "outputs": [],
      "source": [
        "'''\n",
        "# Remove numeric outliers by using interquartile range\n",
        "def remove_outliers_iqr(df, multiplier=1.5):\n",
        "    # Exclude non-numeric columns\n",
        "    numeric_columns = df.select_dtypes(include=[np.number]).columns\n",
        "    df_numeric = df[numeric_columns]\n",
        "\n",
        "    # Calculate the first and third quartiles (Q1 and Q3) for numeric columns\n",
        "    Q1 = df_numeric.quantile(0.25)\n",
        "    Q3 = df_numeric.quantile(0.75)\n",
        "\n",
        "    # Calculate the interquartile range (IQR) for numeric columns\n",
        "    IQR = Q3 - Q1\n",
        "\n",
        "    # Create a mask to filter out outliers for each numeric column\n",
        "    outlier_mask = ((df_numeric < (Q1 - multiplier * IQR)) | (df_numeric > (Q3 + multiplier * IQR))).any(axis=1)\n",
        "\n",
        "    # Remove rows with outliers\n",
        "    df_no_outliers = df[~outlier_mask]\n",
        "\n",
        "    return df_no_outliers\n",
        "\n",
        "# Assuming df_train is your dataframe\n",
        "df_train = remove_outliers_iqr(df_train)\n",
        "'''\n",
        "\n"
      ]
    },
    {
      "cell_type": "code",
      "execution_count": 105,
      "metadata": {},
      "outputs": [],
      "source": [
        "\n",
        "# Remove numeric outliers by using interquartile range\n",
        "def remove_outliers_iqr(df, multiplier=1.5, target_column='isFraud'):\n",
        "    # Exclude non-numeric columns\n",
        "    numeric_columns = df.select_dtypes(include=[np.number]).columns\n",
        "    df_numeric = df[numeric_columns]\n",
        "\n",
        "    # Exclude the target column and columns with 0 and 1 values\n",
        "    numeric_columns_to_exclude = df_numeric.columns[(df_numeric.nunique() == 2) & (df_numeric.min() == 0) & (df_numeric.max() == 1)]\n",
        "    exclude_columns = [target_column] + numeric_columns_to_exclude.tolist()\n",
        "    df_numeric = df_numeric.drop(columns=exclude_columns, errors='ignore')\n",
        "\n",
        "    # Calculate the first and third quartiles (Q1 and Q3) for numeric columns\n",
        "    Q1 = df_numeric[df[target_column] == 0].quantile(0.25)\n",
        "    Q3 = df_numeric[df[target_column] == 0].quantile(0.75)\n",
        "\n",
        "    # Calculate the interquartile range (IQR) for numeric columns\n",
        "    IQR = Q3 - Q1\n",
        "\n",
        "    # Create a mask to filter out outliers for each numeric column\n",
        "    outlier_mask = ((df_numeric < (Q1 - multiplier * IQR)) | (df_numeric > (Q3 + multiplier * IQR))).any(axis=1)\n",
        "\n",
        "    # Remove rows with outliers\n",
        "    df_no_outliers = df[~outlier_mask]\n",
        "\n",
        "    return df_no_outliers\n",
        "\n",
        "# Assuming df_train is your dataframe\n",
        "df_train = remove_outliers_iqr(df_train, target_column='isFraud')\n",
        "\n",
        "\n",
        "\n",
        "\n",
        "\n",
        "\n"
      ]
    },
    {
      "cell_type": "code",
      "execution_count": 86,
      "metadata": {},
      "outputs": [
        {
          "data": {
            "text/html": [
              "<div>\n",
              "<style scoped>\n",
              "    .dataframe tbody tr th:only-of-type {\n",
              "        vertical-align: middle;\n",
              "    }\n",
              "\n",
              "    .dataframe tbody tr th {\n",
              "        vertical-align: top;\n",
              "    }\n",
              "\n",
              "    .dataframe thead th {\n",
              "        text-align: right;\n",
              "    }\n",
              "</style>\n",
              "<table border=\"1\" class=\"dataframe\">\n",
              "  <thead>\n",
              "    <tr style=\"text-align: right;\">\n",
              "      <th></th>\n",
              "      <th>TransactionID</th>\n",
              "      <th>TransactionDT</th>\n",
              "      <th>TransactionAmt</th>\n",
              "      <th>ProductCD</th>\n",
              "      <th>card1</th>\n",
              "      <th>card2</th>\n",
              "      <th>card3</th>\n",
              "      <th>card4</th>\n",
              "      <th>card5</th>\n",
              "      <th>card6</th>\n",
              "      <th>...</th>\n",
              "      <th>V313</th>\n",
              "      <th>V314</th>\n",
              "      <th>V315</th>\n",
              "      <th>V316</th>\n",
              "      <th>V317</th>\n",
              "      <th>V318</th>\n",
              "      <th>V319</th>\n",
              "      <th>V320</th>\n",
              "      <th>V321</th>\n",
              "      <th>isFraud</th>\n",
              "    </tr>\n",
              "  </thead>\n",
              "  <tbody>\n",
              "    <tr>\n",
              "      <th>5</th>\n",
              "      <td>3049390</td>\n",
              "      <td>1428785</td>\n",
              "      <td>47.95</td>\n",
              "      <td>W</td>\n",
              "      <td>6019</td>\n",
              "      <td>583.0</td>\n",
              "      <td>150.0</td>\n",
              "      <td>visa</td>\n",
              "      <td>226.0</td>\n",
              "      <td>credit</td>\n",
              "      <td>...</td>\n",
              "      <td>0.0</td>\n",
              "      <td>0.0</td>\n",
              "      <td>0.0</td>\n",
              "      <td>0.0</td>\n",
              "      <td>0.0</td>\n",
              "      <td>0.0</td>\n",
              "      <td>0.0</td>\n",
              "      <td>0.0</td>\n",
              "      <td>0.0</td>\n",
              "      <td>0</td>\n",
              "    </tr>\n",
              "    <tr>\n",
              "      <th>9</th>\n",
              "      <td>3310478</td>\n",
              "      <td>8015970</td>\n",
              "      <td>39.00</td>\n",
              "      <td>W</td>\n",
              "      <td>8691</td>\n",
              "      <td>599.0</td>\n",
              "      <td>150.0</td>\n",
              "      <td>visa</td>\n",
              "      <td>166.0</td>\n",
              "      <td>debit</td>\n",
              "      <td>...</td>\n",
              "      <td>0.0</td>\n",
              "      <td>0.0</td>\n",
              "      <td>0.0</td>\n",
              "      <td>0.0</td>\n",
              "      <td>0.0</td>\n",
              "      <td>0.0</td>\n",
              "      <td>0.0</td>\n",
              "      <td>0.0</td>\n",
              "      <td>0.0</td>\n",
              "      <td>0</td>\n",
              "    </tr>\n",
              "    <tr>\n",
              "      <th>26</th>\n",
              "      <td>3294997</td>\n",
              "      <td>7665575</td>\n",
              "      <td>40.00</td>\n",
              "      <td>W</td>\n",
              "      <td>3605</td>\n",
              "      <td>514.0</td>\n",
              "      <td>150.0</td>\n",
              "      <td>mastercard</td>\n",
              "      <td>224.0</td>\n",
              "      <td>debit</td>\n",
              "      <td>...</td>\n",
              "      <td>0.0</td>\n",
              "      <td>0.0</td>\n",
              "      <td>0.0</td>\n",
              "      <td>0.0</td>\n",
              "      <td>0.0</td>\n",
              "      <td>0.0</td>\n",
              "      <td>0.0</td>\n",
              "      <td>0.0</td>\n",
              "      <td>0.0</td>\n",
              "      <td>0</td>\n",
              "    </tr>\n",
              "    <tr>\n",
              "      <th>43</th>\n",
              "      <td>3231464</td>\n",
              "      <td>5799745</td>\n",
              "      <td>117.00</td>\n",
              "      <td>W</td>\n",
              "      <td>13481</td>\n",
              "      <td>199.0</td>\n",
              "      <td>150.0</td>\n",
              "      <td>mastercard</td>\n",
              "      <td>224.0</td>\n",
              "      <td>debit</td>\n",
              "      <td>...</td>\n",
              "      <td>0.0</td>\n",
              "      <td>0.0</td>\n",
              "      <td>0.0</td>\n",
              "      <td>0.0</td>\n",
              "      <td>0.0</td>\n",
              "      <td>0.0</td>\n",
              "      <td>0.0</td>\n",
              "      <td>0.0</td>\n",
              "      <td>0.0</td>\n",
              "      <td>0</td>\n",
              "    </tr>\n",
              "    <tr>\n",
              "      <th>45</th>\n",
              "      <td>3532725</td>\n",
              "      <td>14407256</td>\n",
              "      <td>87.95</td>\n",
              "      <td>W</td>\n",
              "      <td>5374</td>\n",
              "      <td>170.0</td>\n",
              "      <td>150.0</td>\n",
              "      <td>mastercard</td>\n",
              "      <td>117.0</td>\n",
              "      <td>debit</td>\n",
              "      <td>...</td>\n",
              "      <td>0.0</td>\n",
              "      <td>0.0</td>\n",
              "      <td>0.0</td>\n",
              "      <td>0.0</td>\n",
              "      <td>0.0</td>\n",
              "      <td>0.0</td>\n",
              "      <td>0.0</td>\n",
              "      <td>0.0</td>\n",
              "      <td>0.0</td>\n",
              "      <td>0</td>\n",
              "    </tr>\n",
              "  </tbody>\n",
              "</table>\n",
              "<p>5 rows × 226 columns</p>\n",
              "</div>"
            ],
            "text/plain": [
              "    TransactionID  TransactionDT  TransactionAmt ProductCD  card1  card2   \n",
              "5         3049390        1428785           47.95         W   6019  583.0  \\\n",
              "9         3310478        8015970           39.00         W   8691  599.0   \n",
              "26        3294997        7665575           40.00         W   3605  514.0   \n",
              "43        3231464        5799745          117.00         W  13481  199.0   \n",
              "45        3532725       14407256           87.95         W   5374  170.0   \n",
              "\n",
              "    card3       card4  card5   card6  ...  V313  V314  V315 V316  V317  V318   \n",
              "5   150.0        visa  226.0  credit  ...   0.0   0.0   0.0  0.0   0.0   0.0  \\\n",
              "9   150.0        visa  166.0   debit  ...   0.0   0.0   0.0  0.0   0.0   0.0   \n",
              "26  150.0  mastercard  224.0   debit  ...   0.0   0.0   0.0  0.0   0.0   0.0   \n",
              "43  150.0  mastercard  224.0   debit  ...   0.0   0.0   0.0  0.0   0.0   0.0   \n",
              "45  150.0  mastercard  117.0   debit  ...   0.0   0.0   0.0  0.0   0.0   0.0   \n",
              "\n",
              "    V319  V320  V321  isFraud  \n",
              "5    0.0   0.0   0.0        0  \n",
              "9    0.0   0.0   0.0        0  \n",
              "26   0.0   0.0   0.0        0  \n",
              "43   0.0   0.0   0.0        0  \n",
              "45   0.0   0.0   0.0        0  \n",
              "\n",
              "[5 rows x 226 columns]"
            ]
          },
          "execution_count": 86,
          "metadata": {},
          "output_type": "execute_result"
        }
      ],
      "source": [
        "df_train.head(5)"
      ]
    },
    {
      "cell_type": "code",
      "execution_count": 106,
      "metadata": {},
      "outputs": [],
      "source": [
        "# Handling missing numerical values in Train data\n",
        "numeric_columns = df_train.select_dtypes(include=[np.number]).columns\n",
        "df_train[numeric_columns] = df_train[numeric_columns].fillna(df_train[numeric_columns].mean())\n",
        "\n"
      ]
    },
    {
      "cell_type": "code",
      "execution_count": 107,
      "metadata": {},
      "outputs": [],
      "source": [
        "# Handling missing numerical values in Train data\n",
        "numeric_columns = df_train.select_dtypes(include=[np.number]).columns\n",
        "df_train.loc[:, numeric_columns] = df_train.loc[:, numeric_columns].fillna(df_train[numeric_columns].mean())"
      ]
    },
    {
      "cell_type": "code",
      "execution_count": 108,
      "metadata": {
        "colab": {
          "base_uri": "https://localhost:8080/",
          "height": 273
        },
        "id": "w9YxPQYfSPgu",
        "outputId": "8b505480-bc4b-47e7-b3d8-dd87a817a1cd"
      },
      "outputs": [
        {
          "data": {
            "text/html": [
              "<div>\n",
              "<style scoped>\n",
              "    .dataframe tbody tr th:only-of-type {\n",
              "        vertical-align: middle;\n",
              "    }\n",
              "\n",
              "    .dataframe tbody tr th {\n",
              "        vertical-align: top;\n",
              "    }\n",
              "\n",
              "    .dataframe thead th {\n",
              "        text-align: right;\n",
              "    }\n",
              "</style>\n",
              "<table border=\"1\" class=\"dataframe\">\n",
              "  <thead>\n",
              "    <tr style=\"text-align: right;\">\n",
              "      <th></th>\n",
              "      <th>TransactionID</th>\n",
              "      <th>TransactionDT</th>\n",
              "      <th>TransactionAmt</th>\n",
              "      <th>ProductCD</th>\n",
              "      <th>card1</th>\n",
              "      <th>card2</th>\n",
              "      <th>card3</th>\n",
              "      <th>card4</th>\n",
              "      <th>card5</th>\n",
              "      <th>card6</th>\n",
              "      <th>...</th>\n",
              "      <th>V313</th>\n",
              "      <th>V314</th>\n",
              "      <th>V315</th>\n",
              "      <th>V316</th>\n",
              "      <th>V317</th>\n",
              "      <th>V318</th>\n",
              "      <th>V319</th>\n",
              "      <th>V320</th>\n",
              "      <th>V321</th>\n",
              "      <th>isFraud</th>\n",
              "    </tr>\n",
              "  </thead>\n",
              "  <tbody>\n",
              "    <tr>\n",
              "      <th>5</th>\n",
              "      <td>3049390</td>\n",
              "      <td>1428785</td>\n",
              "      <td>47.95</td>\n",
              "      <td>W</td>\n",
              "      <td>6019</td>\n",
              "      <td>583.0</td>\n",
              "      <td>150.0</td>\n",
              "      <td>visa</td>\n",
              "      <td>226.0</td>\n",
              "      <td>credit</td>\n",
              "      <td>...</td>\n",
              "      <td>0.0</td>\n",
              "      <td>0.0</td>\n",
              "      <td>0.0</td>\n",
              "      <td>0.0</td>\n",
              "      <td>0.0</td>\n",
              "      <td>0.0</td>\n",
              "      <td>0.0</td>\n",
              "      <td>0.0</td>\n",
              "      <td>0.0</td>\n",
              "      <td>0</td>\n",
              "    </tr>\n",
              "    <tr>\n",
              "      <th>9</th>\n",
              "      <td>3310478</td>\n",
              "      <td>8015970</td>\n",
              "      <td>39.00</td>\n",
              "      <td>W</td>\n",
              "      <td>8691</td>\n",
              "      <td>599.0</td>\n",
              "      <td>150.0</td>\n",
              "      <td>visa</td>\n",
              "      <td>166.0</td>\n",
              "      <td>debit</td>\n",
              "      <td>...</td>\n",
              "      <td>0.0</td>\n",
              "      <td>0.0</td>\n",
              "      <td>0.0</td>\n",
              "      <td>0.0</td>\n",
              "      <td>0.0</td>\n",
              "      <td>0.0</td>\n",
              "      <td>0.0</td>\n",
              "      <td>0.0</td>\n",
              "      <td>0.0</td>\n",
              "      <td>0</td>\n",
              "    </tr>\n",
              "    <tr>\n",
              "      <th>26</th>\n",
              "      <td>3294997</td>\n",
              "      <td>7665575</td>\n",
              "      <td>40.00</td>\n",
              "      <td>W</td>\n",
              "      <td>3605</td>\n",
              "      <td>514.0</td>\n",
              "      <td>150.0</td>\n",
              "      <td>mastercard</td>\n",
              "      <td>224.0</td>\n",
              "      <td>debit</td>\n",
              "      <td>...</td>\n",
              "      <td>0.0</td>\n",
              "      <td>0.0</td>\n",
              "      <td>0.0</td>\n",
              "      <td>0.0</td>\n",
              "      <td>0.0</td>\n",
              "      <td>0.0</td>\n",
              "      <td>0.0</td>\n",
              "      <td>0.0</td>\n",
              "      <td>0.0</td>\n",
              "      <td>0</td>\n",
              "    </tr>\n",
              "    <tr>\n",
              "      <th>43</th>\n",
              "      <td>3231464</td>\n",
              "      <td>5799745</td>\n",
              "      <td>117.00</td>\n",
              "      <td>W</td>\n",
              "      <td>13481</td>\n",
              "      <td>199.0</td>\n",
              "      <td>150.0</td>\n",
              "      <td>mastercard</td>\n",
              "      <td>224.0</td>\n",
              "      <td>debit</td>\n",
              "      <td>...</td>\n",
              "      <td>0.0</td>\n",
              "      <td>0.0</td>\n",
              "      <td>0.0</td>\n",
              "      <td>0.0</td>\n",
              "      <td>0.0</td>\n",
              "      <td>0.0</td>\n",
              "      <td>0.0</td>\n",
              "      <td>0.0</td>\n",
              "      <td>0.0</td>\n",
              "      <td>0</td>\n",
              "    </tr>\n",
              "    <tr>\n",
              "      <th>45</th>\n",
              "      <td>3532725</td>\n",
              "      <td>14407256</td>\n",
              "      <td>87.95</td>\n",
              "      <td>W</td>\n",
              "      <td>5374</td>\n",
              "      <td>170.0</td>\n",
              "      <td>150.0</td>\n",
              "      <td>mastercard</td>\n",
              "      <td>117.0</td>\n",
              "      <td>debit</td>\n",
              "      <td>...</td>\n",
              "      <td>0.0</td>\n",
              "      <td>0.0</td>\n",
              "      <td>0.0</td>\n",
              "      <td>0.0</td>\n",
              "      <td>0.0</td>\n",
              "      <td>0.0</td>\n",
              "      <td>0.0</td>\n",
              "      <td>0.0</td>\n",
              "      <td>0.0</td>\n",
              "      <td>0</td>\n",
              "    </tr>\n",
              "  </tbody>\n",
              "</table>\n",
              "<p>5 rows × 226 columns</p>\n",
              "</div>"
            ],
            "text/plain": [
              "    TransactionID  TransactionDT  TransactionAmt ProductCD  card1  card2   \n",
              "5         3049390        1428785           47.95         W   6019  583.0  \\\n",
              "9         3310478        8015970           39.00         W   8691  599.0   \n",
              "26        3294997        7665575           40.00         W   3605  514.0   \n",
              "43        3231464        5799745          117.00         W  13481  199.0   \n",
              "45        3532725       14407256           87.95         W   5374  170.0   \n",
              "\n",
              "    card3       card4  card5   card6  ...  V313  V314  V315 V316  V317  V318   \n",
              "5   150.0        visa  226.0  credit  ...   0.0   0.0   0.0  0.0   0.0   0.0  \\\n",
              "9   150.0        visa  166.0   debit  ...   0.0   0.0   0.0  0.0   0.0   0.0   \n",
              "26  150.0  mastercard  224.0   debit  ...   0.0   0.0   0.0  0.0   0.0   0.0   \n",
              "43  150.0  mastercard  224.0   debit  ...   0.0   0.0   0.0  0.0   0.0   0.0   \n",
              "45  150.0  mastercard  117.0   debit  ...   0.0   0.0   0.0  0.0   0.0   0.0   \n",
              "\n",
              "    V319  V320  V321  isFraud  \n",
              "5    0.0   0.0   0.0        0  \n",
              "9    0.0   0.0   0.0        0  \n",
              "26   0.0   0.0   0.0        0  \n",
              "43   0.0   0.0   0.0        0  \n",
              "45   0.0   0.0   0.0        0  \n",
              "\n",
              "[5 rows x 226 columns]"
            ]
          },
          "execution_count": 108,
          "metadata": {},
          "output_type": "execute_result"
        }
      ],
      "source": [
        "# display 5 rows\n",
        "df_train.head()"
      ]
    },
    {
      "cell_type": "code",
      "execution_count": 90,
      "metadata": {
        "colab": {
          "base_uri": "https://localhost:8080/"
        },
        "id": "cU3Rp-MLSU1x",
        "outputId": "f5d57d2b-4048-418f-956f-4184093db964"
      },
      "outputs": [
        {
          "data": {
            "text/plain": [
              "TransactionID     0\n",
              "TransactionDT     0\n",
              "TransactionAmt    0\n",
              "ProductCD         0\n",
              "card1             0\n",
              "                 ..\n",
              "V318              0\n",
              "V319              0\n",
              "V320              0\n",
              "V321              0\n",
              "isFraud           0\n",
              "Length: 226, dtype: int64"
            ]
          },
          "execution_count": 90,
          "metadata": {},
          "output_type": "execute_result"
        }
      ],
      "source": [
        "# confirm that there are no missing values\n",
        "df_train.isnull().sum()"
      ]
    },
    {
      "cell_type": "code",
      "execution_count": 13,
      "metadata": {
        "colab": {
          "base_uri": "https://localhost:8080/"
        },
        "id": "3dw3tS4WW83J",
        "outputId": "2993771d-a236-4eb0-ba36-aea118d9e73f"
      },
      "outputs": [
        {
          "data": {
            "text/plain": [
              "(472432, 226)"
            ]
          },
          "execution_count": 13,
          "metadata": {},
          "output_type": "execute_result"
        }
      ],
      "source": [
        "df_train.shape"
      ]
    },
    {
      "cell_type": "code",
      "execution_count": 16,
      "metadata": {},
      "outputs": [],
      "source": [
        "# Define the list of columns to one-hot encode 70% drop features\n",
        "#categorical_columns = ['ProductCD','card4','card6', 'P_emaildomain',\n",
        " #                       'M1', 'M2', 'M3', 'M4', 'M5', 'M6', 'M7', 'M8', 'M9']\n",
        "\n",
        "# Perform one-hot encoding for the specified columns\n",
        "#data = pd.get_dummies(df_train, columns=categorical_columns)"
      ]
    },
    {
      "cell_type": "code",
      "execution_count": null,
      "metadata": {},
      "outputs": [],
      "source": [
        "# Define the list of columns to one-hot encode 86% dropped features\n",
        "# categorical_columns = ['ProductCD','card4','card6', 'P_emaildomain', 'R_emaildomain',\n",
        "#                'M1', 'M2', 'M3', 'M4', 'M5', 'M6', 'M7', 'M8', 'M9', 'DeviceType', 'DeviceInfo', 'id_12', 'id_15',\n",
        "#                'id_16','id_28','id_29','id_31',\n",
        "#                'id_35','id_36','id_37','id_38']\n",
        "\n",
        "# Perform one-hot encoding for the specified columns\n",
        "# data = pd.get_dummies(df_train, columns=categorical_columns)"
      ]
    },
    {
      "cell_type": "code",
      "execution_count": 109,
      "metadata": {},
      "outputs": [],
      "source": [
        "from sklearn.preprocessing import LabelEncoder\n",
        "\n",
        "categorical_columns = ['ProductCD', 'card4', 'card6', 'P_emaildomain', 'M1', 'M2', 'M3', 'M4', 'M5', 'M6', 'M7', 'M8', 'M9']\n",
        "\n",
        "label_encoder = LabelEncoder()\n",
        "\n",
        "# Apply label encoding to each categorical column\n",
        "for column in categorical_columns:\n",
        "    df_train[column] = label_encoder.fit_transform(df_train[column].astype(str))\n"
      ]
    },
    {
      "cell_type": "code",
      "execution_count": 111,
      "metadata": {},
      "outputs": [],
      "source": [
        "from sklearn.ensemble import RandomForestClassifier\n",
        "\n",
        "# Assuming df_train is your dataframe and isFraud is the target variable\n",
        "X = df_train.drop(columns=['isFraud'])\n",
        "y = df_train['isFraud']\n",
        "\n",
        "# Fit a RandomForestClassifier\n",
        "rf_classifier = RandomForestClassifier()\n",
        "rf_classifier.fit(X, y)\n",
        "\n",
        "# Get feature importances\n",
        "feature_importances = rf_classifier.feature_importances_\n",
        "\n",
        "# Create a DataFrame with feature names and their importance scores\n",
        "feature_importance_df = pd.DataFrame({'Feature': X.columns, 'Importance': feature_importances})\n",
        "\n",
        "# Sort the DataFrame by importance in descending order\n",
        "feature_importance_df = feature_importance_df.sort_values(by='Importance', ascending=False)\n",
        "\n",
        "# Choose the top k features (adjust k as needed)\n",
        "top_k_features = feature_importance_df.head(5)['Feature'].tolist()\n",
        "\n",
        "# Select only the top k features in the original dataframe\n",
        "df_train_top_features = df_train[['isFraud'] + top_k_features]\n"
      ]
    },
    {
      "cell_type": "code",
      "execution_count": 115,
      "metadata": {},
      "outputs": [
        {
          "data": {
            "text/plain": [
              "(54302, 6)"
            ]
          },
          "execution_count": 115,
          "metadata": {},
          "output_type": "execute_result"
        }
      ],
      "source": [
        "df_train_top_features.shape"
      ]
    },
    {
      "cell_type": "code",
      "execution_count": 116,
      "metadata": {},
      "outputs": [
        {
          "data": {
            "text/html": [
              "<div>\n",
              "<style scoped>\n",
              "    .dataframe tbody tr th:only-of-type {\n",
              "        vertical-align: middle;\n",
              "    }\n",
              "\n",
              "    .dataframe tbody tr th {\n",
              "        vertical-align: top;\n",
              "    }\n",
              "\n",
              "    .dataframe thead th {\n",
              "        text-align: right;\n",
              "    }\n",
              "</style>\n",
              "<table border=\"1\" class=\"dataframe\">\n",
              "  <thead>\n",
              "    <tr style=\"text-align: right;\">\n",
              "      <th></th>\n",
              "      <th>isFraud</th>\n",
              "      <th>TransactionID</th>\n",
              "      <th>TransactionDT</th>\n",
              "      <th>card1</th>\n",
              "      <th>TransactionAmt</th>\n",
              "      <th>addr1</th>\n",
              "    </tr>\n",
              "  </thead>\n",
              "  <tbody>\n",
              "    <tr>\n",
              "      <th>5</th>\n",
              "      <td>0</td>\n",
              "      <td>3049390</td>\n",
              "      <td>1428785</td>\n",
              "      <td>6019</td>\n",
              "      <td>47.95</td>\n",
              "      <td>184.0</td>\n",
              "    </tr>\n",
              "    <tr>\n",
              "      <th>9</th>\n",
              "      <td>0</td>\n",
              "      <td>3310478</td>\n",
              "      <td>8015970</td>\n",
              "      <td>8691</td>\n",
              "      <td>39.00</td>\n",
              "      <td>337.0</td>\n",
              "    </tr>\n",
              "    <tr>\n",
              "      <th>26</th>\n",
              "      <td>0</td>\n",
              "      <td>3294997</td>\n",
              "      <td>7665575</td>\n",
              "      <td>3605</td>\n",
              "      <td>40.00</td>\n",
              "      <td>325.0</td>\n",
              "    </tr>\n",
              "    <tr>\n",
              "      <th>43</th>\n",
              "      <td>0</td>\n",
              "      <td>3231464</td>\n",
              "      <td>5799745</td>\n",
              "      <td>13481</td>\n",
              "      <td>117.00</td>\n",
              "      <td>325.0</td>\n",
              "    </tr>\n",
              "    <tr>\n",
              "      <th>45</th>\n",
              "      <td>0</td>\n",
              "      <td>3532725</td>\n",
              "      <td>14407256</td>\n",
              "      <td>5374</td>\n",
              "      <td>87.95</td>\n",
              "      <td>264.0</td>\n",
              "    </tr>\n",
              "  </tbody>\n",
              "</table>\n",
              "</div>"
            ],
            "text/plain": [
              "    isFraud  TransactionID  TransactionDT  card1  TransactionAmt  addr1\n",
              "5         0        3049390        1428785   6019           47.95  184.0\n",
              "9         0        3310478        8015970   8691           39.00  337.0\n",
              "26        0        3294997        7665575   3605           40.00  325.0\n",
              "43        0        3231464        5799745  13481          117.00  325.0\n",
              "45        0        3532725       14407256   5374           87.95  264.0"
            ]
          },
          "execution_count": 116,
          "metadata": {},
          "output_type": "execute_result"
        }
      ],
      "source": [
        "df_train_top_features.head()"
      ]
    },
    {
      "cell_type": "markdown",
      "metadata": {},
      "source": [
        "Standardize the dataset"
      ]
    },
    {
      "cell_type": "code",
      "execution_count": 117,
      "metadata": {},
      "outputs": [],
      "source": [
        "\n",
        "scaler = StandardScaler()\n",
        "data_scaled = scaler.fit_transform(df_train_top_features)"
      ]
    },
    {
      "cell_type": "markdown",
      "metadata": {
        "id": "rDxJ1Bm2batk"
      },
      "source": [
        "Handle data imbalance"
      ]
    },
    {
      "cell_type": "code",
      "execution_count": 95,
      "metadata": {
        "id": "S2A__pthbN5D"
      },
      "outputs": [],
      "source": [
        "# SMOTE libraries\n",
        "from imblearn.over_sampling import SMOTE\n",
        "from sklearn.model_selection import train_test_split\n",
        "# standardize the data"
      ]
    },
    {
      "cell_type": "code",
      "execution_count": 118,
      "metadata": {
        "id": "nK6NMi4UcDWw"
      },
      "outputs": [],
      "source": [
        "# Split the dataset into features (X) and the target variable (y)\n",
        "x_train = df_train_top_features.drop('isFraud', axis=1)\n",
        "y_train = df_train_top_features['isFraud']"
      ]
    },
    {
      "cell_type": "code",
      "execution_count": 119,
      "metadata": {
        "id": "7SXd7TmUbRzj"
      },
      "outputs": [],
      "source": [
        "# Apply SMOTE (sythentic minority oversampling Technique) for oversampling the minority class\n",
        "smote = SMOTE(sampling_strategy='auto', random_state=42)\n",
        "x_resampled, y_resampled = smote.fit_resample(x_train, y_train)"
      ]
    },
    {
      "cell_type": "code",
      "execution_count": 120,
      "metadata": {},
      "outputs": [],
      "source": [
        "from sklearn.manifold import TSNE  # Import t-SNE from scikit-learn"
      ]
    },
    {
      "cell_type": "code",
      "execution_count": null,
      "metadata": {
        "id": "AVMMxp9p55-K"
      },
      "outputs": [],
      "source": [
        "# Perform t-SNE dimension reduction\n",
        "tsne = TSNE(n_components=3, random_state=42)  # You can adjust the number of components as needed\n",
        "X_tsne = tsne.fit_transform(x_resampled)"
      ]
    },
    {
      "cell_type": "code",
      "execution_count": null,
      "metadata": {
        "colab": {
          "base_uri": "https://localhost:8080/",
          "height": 255
        },
        "id": "BfOdD61HYWK0",
        "outputId": "1daf9488-1b05-4af5-8fbe-69eafc67629f"
      },
      "outputs": [
        {
          "data": {
            "text/html": [
              "\n",
              "  <div id=\"df-da446b93-ca27-4ae3-afba-ad45827047d1\" class=\"colab-df-container\">\n",
              "    <div>\n",
              "<style scoped>\n",
              "    .dataframe tbody tr th:only-of-type {\n",
              "        vertical-align: middle;\n",
              "    }\n",
              "\n",
              "    .dataframe tbody tr th {\n",
              "        vertical-align: top;\n",
              "    }\n",
              "\n",
              "    .dataframe thead th {\n",
              "        text-align: right;\n",
              "    }\n",
              "</style>\n",
              "<table border=\"1\" class=\"dataframe\">\n",
              "  <thead>\n",
              "    <tr style=\"text-align: right;\">\n",
              "      <th></th>\n",
              "      <th>TransactionID</th>\n",
              "      <th>TransactionDT</th>\n",
              "      <th>TransactionAmt</th>\n",
              "      <th>card1</th>\n",
              "      <th>card2</th>\n",
              "      <th>card3</th>\n",
              "      <th>card5</th>\n",
              "      <th>addr1</th>\n",
              "      <th>addr2</th>\n",
              "      <th>dist1</th>\n",
              "      <th>...</th>\n",
              "      <th>id_34_match_status:1</th>\n",
              "      <th>id_34_match_status:2</th>\n",
              "      <th>id_35_F</th>\n",
              "      <th>id_35_T</th>\n",
              "      <th>id_36_F</th>\n",
              "      <th>id_36_T</th>\n",
              "      <th>id_37_F</th>\n",
              "      <th>id_37_T</th>\n",
              "      <th>id_38_F</th>\n",
              "      <th>id_38_T</th>\n",
              "    </tr>\n",
              "  </thead>\n",
              "  <tbody>\n",
              "    <tr>\n",
              "      <th>0</th>\n",
              "      <td>2992307</td>\n",
              "      <td>174911</td>\n",
              "      <td>59.000</td>\n",
              "      <td>4988</td>\n",
              "      <td>334.0</td>\n",
              "      <td>150.0</td>\n",
              "      <td>226.0</td>\n",
              "      <td>315.000000</td>\n",
              "      <td>87.000000</td>\n",
              "      <td>42.000000</td>\n",
              "      <td>...</td>\n",
              "      <td>0</td>\n",
              "      <td>1</td>\n",
              "      <td>0</td>\n",
              "      <td>1</td>\n",
              "      <td>1</td>\n",
              "      <td>0</td>\n",
              "      <td>0</td>\n",
              "      <td>1</td>\n",
              "      <td>1</td>\n",
              "      <td>0</td>\n",
              "    </tr>\n",
              "    <tr>\n",
              "      <th>1</th>\n",
              "      <td>3178582</td>\n",
              "      <td>4301977</td>\n",
              "      <td>23.378</td>\n",
              "      <td>3867</td>\n",
              "      <td>296.0</td>\n",
              "      <td>185.0</td>\n",
              "      <td>226.0</td>\n",
              "      <td>290.897673</td>\n",
              "      <td>86.800301</td>\n",
              "      <td>119.094623</td>\n",
              "      <td>...</td>\n",
              "      <td>0</td>\n",
              "      <td>1</td>\n",
              "      <td>1</td>\n",
              "      <td>0</td>\n",
              "      <td>1</td>\n",
              "      <td>0</td>\n",
              "      <td>0</td>\n",
              "      <td>1</td>\n",
              "      <td>1</td>\n",
              "      <td>0</td>\n",
              "    </tr>\n",
              "    <tr>\n",
              "      <th>2</th>\n",
              "      <td>3247168</td>\n",
              "      <td>6229929</td>\n",
              "      <td>35.950</td>\n",
              "      <td>12577</td>\n",
              "      <td>268.0</td>\n",
              "      <td>150.0</td>\n",
              "      <td>166.0</td>\n",
              "      <td>476.000000</td>\n",
              "      <td>87.000000</td>\n",
              "      <td>119.094623</td>\n",
              "      <td>...</td>\n",
              "      <td>0</td>\n",
              "      <td>1</td>\n",
              "      <td>0</td>\n",
              "      <td>1</td>\n",
              "      <td>1</td>\n",
              "      <td>0</td>\n",
              "      <td>0</td>\n",
              "      <td>1</td>\n",
              "      <td>1</td>\n",
              "      <td>0</td>\n",
              "    </tr>\n",
              "    <tr>\n",
              "      <th>3</th>\n",
              "      <td>3005516</td>\n",
              "      <td>497176</td>\n",
              "      <td>100.000</td>\n",
              "      <td>6019</td>\n",
              "      <td>583.0</td>\n",
              "      <td>150.0</td>\n",
              "      <td>226.0</td>\n",
              "      <td>126.000000</td>\n",
              "      <td>87.000000</td>\n",
              "      <td>119.094623</td>\n",
              "      <td>...</td>\n",
              "      <td>0</td>\n",
              "      <td>1</td>\n",
              "      <td>0</td>\n",
              "      <td>1</td>\n",
              "      <td>1</td>\n",
              "      <td>0</td>\n",
              "      <td>0</td>\n",
              "      <td>1</td>\n",
              "      <td>1</td>\n",
              "      <td>0</td>\n",
              "    </tr>\n",
              "    <tr>\n",
              "      <th>4</th>\n",
              "      <td>3034538</td>\n",
              "      <td>1124702</td>\n",
              "      <td>75.000</td>\n",
              "      <td>16075</td>\n",
              "      <td>514.0</td>\n",
              "      <td>150.0</td>\n",
              "      <td>102.0</td>\n",
              "      <td>325.000000</td>\n",
              "      <td>87.000000</td>\n",
              "      <td>119.094623</td>\n",
              "      <td>...</td>\n",
              "      <td>0</td>\n",
              "      <td>1</td>\n",
              "      <td>0</td>\n",
              "      <td>1</td>\n",
              "      <td>1</td>\n",
              "      <td>0</td>\n",
              "      <td>0</td>\n",
              "      <td>1</td>\n",
              "      <td>0</td>\n",
              "      <td>1</td>\n",
              "    </tr>\n",
              "  </tbody>\n",
              "</table>\n",
              "<p>5 rows × 2721 columns</p>\n",
              "</div>\n",
              "    <div class=\"colab-df-buttons\">\n",
              "\n",
              "  <div class=\"colab-df-container\">\n",
              "    <button class=\"colab-df-convert\" onclick=\"convertToInteractive('df-da446b93-ca27-4ae3-afba-ad45827047d1')\"\n",
              "            title=\"Convert this dataframe to an interactive table.\"\n",
              "            style=\"display:none;\">\n",
              "\n",
              "  <svg xmlns=\"http://www.w3.org/2000/svg\" height=\"24px\" viewBox=\"0 -960 960 960\">\n",
              "    <path d=\"M120-120v-720h720v720H120Zm60-500h600v-160H180v160Zm220 220h160v-160H400v160Zm0 220h160v-160H400v160ZM180-400h160v-160H180v160Zm440 0h160v-160H620v160ZM180-180h160v-160H180v160Zm440 0h160v-160H620v160Z\"/>\n",
              "  </svg>\n",
              "    </button>\n",
              "\n",
              "  <style>\n",
              "    .colab-df-container {\n",
              "      display:flex;\n",
              "      gap: 12px;\n",
              "    }\n",
              "\n",
              "    .colab-df-convert {\n",
              "      background-color: #E8F0FE;\n",
              "      border: none;\n",
              "      border-radius: 50%;\n",
              "      cursor: pointer;\n",
              "      display: none;\n",
              "      fill: #1967D2;\n",
              "      height: 32px;\n",
              "      padding: 0 0 0 0;\n",
              "      width: 32px;\n",
              "    }\n",
              "\n",
              "    .colab-df-convert:hover {\n",
              "      background-color: #E2EBFA;\n",
              "      box-shadow: 0px 1px 2px rgba(60, 64, 67, 0.3), 0px 1px 3px 1px rgba(60, 64, 67, 0.15);\n",
              "      fill: #174EA6;\n",
              "    }\n",
              "\n",
              "    .colab-df-buttons div {\n",
              "      margin-bottom: 4px;\n",
              "    }\n",
              "\n",
              "    [theme=dark] .colab-df-convert {\n",
              "      background-color: #3B4455;\n",
              "      fill: #D2E3FC;\n",
              "    }\n",
              "\n",
              "    [theme=dark] .colab-df-convert:hover {\n",
              "      background-color: #434B5C;\n",
              "      box-shadow: 0px 1px 3px 1px rgba(0, 0, 0, 0.15);\n",
              "      filter: drop-shadow(0px 1px 2px rgba(0, 0, 0, 0.3));\n",
              "      fill: #FFFFFF;\n",
              "    }\n",
              "  </style>\n",
              "\n",
              "    <script>\n",
              "      const buttonEl =\n",
              "        document.querySelector('#df-da446b93-ca27-4ae3-afba-ad45827047d1 button.colab-df-convert');\n",
              "      buttonEl.style.display =\n",
              "        google.colab.kernel.accessAllowed ? 'block' : 'none';\n",
              "\n",
              "      async function convertToInteractive(key) {\n",
              "        const element = document.querySelector('#df-da446b93-ca27-4ae3-afba-ad45827047d1');\n",
              "        const dataTable =\n",
              "          await google.colab.kernel.invokeFunction('convertToInteractive',\n",
              "                                                    [key], {});\n",
              "        if (!dataTable) return;\n",
              "\n",
              "        const docLinkHtml = 'Like what you see? Visit the ' +\n",
              "          '<a target=\"_blank\" href=https://colab.research.google.com/notebooks/data_table.ipynb>data table notebook</a>'\n",
              "          + ' to learn more about interactive tables.';\n",
              "        element.innerHTML = '';\n",
              "        dataTable['output_type'] = 'display_data';\n",
              "        await google.colab.output.renderOutput(dataTable, element);\n",
              "        const docLink = document.createElement('div');\n",
              "        docLink.innerHTML = docLinkHtml;\n",
              "        element.appendChild(docLink);\n",
              "      }\n",
              "    </script>\n",
              "  </div>\n",
              "\n",
              "\n",
              "<div id=\"df-b647505f-91ef-46e2-b09d-32773a9ee182\">\n",
              "  <button class=\"colab-df-quickchart\" onclick=\"quickchart('df-b647505f-91ef-46e2-b09d-32773a9ee182')\"\n",
              "            title=\"Suggest charts.\"\n",
              "            style=\"display:none;\">\n",
              "\n",
              "<svg xmlns=\"http://www.w3.org/2000/svg\" height=\"24px\"viewBox=\"0 0 24 24\"\n",
              "     width=\"24px\">\n",
              "    <g>\n",
              "        <path d=\"M19 3H5c-1.1 0-2 .9-2 2v14c0 1.1.9 2 2 2h14c1.1 0 2-.9 2-2V5c0-1.1-.9-2-2-2zM9 17H7v-7h2v7zm4 0h-2V7h2v10zm4 0h-2v-4h2v4z\"/>\n",
              "    </g>\n",
              "</svg>\n",
              "  </button>\n",
              "\n",
              "<style>\n",
              "  .colab-df-quickchart {\n",
              "      --bg-color: #E8F0FE;\n",
              "      --fill-color: #1967D2;\n",
              "      --hover-bg-color: #E2EBFA;\n",
              "      --hover-fill-color: #174EA6;\n",
              "      --disabled-fill-color: #AAA;\n",
              "      --disabled-bg-color: #DDD;\n",
              "  }\n",
              "\n",
              "  [theme=dark] .colab-df-quickchart {\n",
              "      --bg-color: #3B4455;\n",
              "      --fill-color: #D2E3FC;\n",
              "      --hover-bg-color: #434B5C;\n",
              "      --hover-fill-color: #FFFFFF;\n",
              "      --disabled-bg-color: #3B4455;\n",
              "      --disabled-fill-color: #666;\n",
              "  }\n",
              "\n",
              "  .colab-df-quickchart {\n",
              "    background-color: var(--bg-color);\n",
              "    border: none;\n",
              "    border-radius: 50%;\n",
              "    cursor: pointer;\n",
              "    display: none;\n",
              "    fill: var(--fill-color);\n",
              "    height: 32px;\n",
              "    padding: 0;\n",
              "    width: 32px;\n",
              "  }\n",
              "\n",
              "  .colab-df-quickchart:hover {\n",
              "    background-color: var(--hover-bg-color);\n",
              "    box-shadow: 0 1px 2px rgba(60, 64, 67, 0.3), 0 1px 3px 1px rgba(60, 64, 67, 0.15);\n",
              "    fill: var(--button-hover-fill-color);\n",
              "  }\n",
              "\n",
              "  .colab-df-quickchart-complete:disabled,\n",
              "  .colab-df-quickchart-complete:disabled:hover {\n",
              "    background-color: var(--disabled-bg-color);\n",
              "    fill: var(--disabled-fill-color);\n",
              "    box-shadow: none;\n",
              "  }\n",
              "\n",
              "  .colab-df-spinner {\n",
              "    border: 2px solid var(--fill-color);\n",
              "    border-color: transparent;\n",
              "    border-bottom-color: var(--fill-color);\n",
              "    animation:\n",
              "      spin 1s steps(1) infinite;\n",
              "  }\n",
              "\n",
              "  @keyframes spin {\n",
              "    0% {\n",
              "      border-color: transparent;\n",
              "      border-bottom-color: var(--fill-color);\n",
              "      border-left-color: var(--fill-color);\n",
              "    }\n",
              "    20% {\n",
              "      border-color: transparent;\n",
              "      border-left-color: var(--fill-color);\n",
              "      border-top-color: var(--fill-color);\n",
              "    }\n",
              "    30% {\n",
              "      border-color: transparent;\n",
              "      border-left-color: var(--fill-color);\n",
              "      border-top-color: var(--fill-color);\n",
              "      border-right-color: var(--fill-color);\n",
              "    }\n",
              "    40% {\n",
              "      border-color: transparent;\n",
              "      border-right-color: var(--fill-color);\n",
              "      border-top-color: var(--fill-color);\n",
              "    }\n",
              "    60% {\n",
              "      border-color: transparent;\n",
              "      border-right-color: var(--fill-color);\n",
              "    }\n",
              "    80% {\n",
              "      border-color: transparent;\n",
              "      border-right-color: var(--fill-color);\n",
              "      border-bottom-color: var(--fill-color);\n",
              "    }\n",
              "    90% {\n",
              "      border-color: transparent;\n",
              "      border-bottom-color: var(--fill-color);\n",
              "    }\n",
              "  }\n",
              "</style>\n",
              "\n",
              "  <script>\n",
              "    async function quickchart(key) {\n",
              "      const quickchartButtonEl =\n",
              "        document.querySelector('#' + key + ' button');\n",
              "      quickchartButtonEl.disabled = true;  // To prevent multiple clicks.\n",
              "      quickchartButtonEl.classList.add('colab-df-spinner');\n",
              "      try {\n",
              "        const charts = await google.colab.kernel.invokeFunction(\n",
              "            'suggestCharts', [key], {});\n",
              "      } catch (error) {\n",
              "        console.error('Error during call to suggestCharts:', error);\n",
              "      }\n",
              "      quickchartButtonEl.classList.remove('colab-df-spinner');\n",
              "      quickchartButtonEl.classList.add('colab-df-quickchart-complete');\n",
              "    }\n",
              "    (() => {\n",
              "      let quickchartButtonEl =\n",
              "        document.querySelector('#df-b647505f-91ef-46e2-b09d-32773a9ee182 button');\n",
              "      quickchartButtonEl.style.display =\n",
              "        google.colab.kernel.accessAllowed ? 'block' : 'none';\n",
              "    })();\n",
              "  </script>\n",
              "</div>\n",
              "    </div>\n",
              "  </div>\n"
            ],
            "text/plain": [
              "   TransactionID  TransactionDT  TransactionAmt  card1  card2  card3  card5  \\\n",
              "0        2992307         174911          59.000   4988  334.0  150.0  226.0   \n",
              "1        3178582        4301977          23.378   3867  296.0  185.0  226.0   \n",
              "2        3247168        6229929          35.950  12577  268.0  150.0  166.0   \n",
              "3        3005516         497176         100.000   6019  583.0  150.0  226.0   \n",
              "4        3034538        1124702          75.000  16075  514.0  150.0  102.0   \n",
              "\n",
              "        addr1      addr2       dist1  ...  id_34_match_status:1  \\\n",
              "0  315.000000  87.000000   42.000000  ...                     0   \n",
              "1  290.897673  86.800301  119.094623  ...                     0   \n",
              "2  476.000000  87.000000  119.094623  ...                     0   \n",
              "3  126.000000  87.000000  119.094623  ...                     0   \n",
              "4  325.000000  87.000000  119.094623  ...                     0   \n",
              "\n",
              "   id_34_match_status:2  id_35_F  id_35_T  id_36_F  id_36_T  id_37_F  id_37_T  \\\n",
              "0                     1        0        1        1        0        0        1   \n",
              "1                     1        1        0        1        0        0        1   \n",
              "2                     1        0        1        1        0        0        1   \n",
              "3                     1        0        1        1        0        0        1   \n",
              "4                     1        0        1        1        0        0        1   \n",
              "\n",
              "   id_38_F  id_38_T  \n",
              "0        1        0  \n",
              "1        1        0  \n",
              "2        1        0  \n",
              "3        1        0  \n",
              "4        0        1  \n",
              "\n",
              "[5 rows x 2721 columns]"
            ]
          },
          "execution_count": 39,
          "metadata": {},
          "output_type": "execute_result"
        }
      ],
      "source": [
        "data.head()\n",
        "\n"
      ]
    },
    {
      "cell_type": "code",
      "execution_count": null,
      "metadata": {
        "colab": {
          "base_uri": "https://localhost:8080/"
        },
        "id": "E10NyoMhyXqi",
        "outputId": "4928238b-847e-4d5c-acc1-e6ced9fa9ea0"
      },
      "outputs": [
        {
          "data": {
            "text/plain": [
              "<function gc.collect(generation=2)>"
            ]
          },
          "execution_count": 40,
          "metadata": {},
          "output_type": "execute_result"
        }
      ],
      "source": [
        "# used GC to reduce the memory due to large datasets in memory and it crashes\n",
        "\n",
        "del df_train\n",
        "gc.collect"
      ]
    },
    {
      "cell_type": "code",
      "execution_count": null,
      "metadata": {
        "id": "ZkfZBsQZc3S0"
      },
      "outputs": [],
      "source": [
        "data.drop(columns = 'TransactionID', inplace = True)"
      ]
    },
    {
      "cell_type": "code",
      "execution_count": null,
      "metadata": {
        "colab": {
          "base_uri": "https://localhost:8080/"
        },
        "id": "MNkV0Ngicq9f",
        "outputId": "7312d70d-3f13-4864-a1a1-68eb6e14530c"
      },
      "outputs": [
        {
          "data": {
            "text/plain": [
              "(590540, 2835)"
            ]
          },
          "execution_count": 11,
          "metadata": {},
          "output_type": "execute_result"
        }
      ],
      "source": [
        "data.shape\n"
      ]
    },
    {
      "cell_type": "code",
      "execution_count": null,
      "metadata": {
        "id": "Ji_VnDc8Xp7z"
      },
      "outputs": [],
      "source": [
        "# list different columns after OHE\n",
        "for i in data:\n",
        "  print(i)"
      ]
    },
    {
      "cell_type": "code",
      "execution_count": null,
      "metadata": {
        "id": "D8q7yVhLRlvz"
      },
      "outputs": [],
      "source": [
        "# create heatmpa\n",
        "#sns.heatmap(data=data)\n",
        "\n",
        "# Show the heatmap\n",
        "#plt.show()"
      ]
    },
    {
      "cell_type": "code",
      "execution_count": null,
      "metadata": {
        "colab": {
          "base_uri": "https://localhost:8080/"
        },
        "id": "ILwkX-NhMWW9",
        "outputId": "e1dd5e5c-3752-4bef-e413-9e70cda70013"
      },
      "outputs": [
        {
          "name": "stdout",
          "output_type": "stream",
          "text": [
            "isFraud    1.000000\n",
            "V201       0.241293\n",
            "V45        0.228360\n",
            "V189       0.226482\n",
            "V200       0.215134\n",
            "             ...   \n",
            "V69       -0.086163\n",
            "V90       -0.087848\n",
            "M4_M0     -0.092588\n",
            "id_35_T   -0.127160\n",
            "V107            NaN\n",
            "Name: isFraud, Length: 1931, dtype: float64\n"
          ]
        }
      ],
      "source": [
        "#correl = data.corr()\n",
        "#print(correl['isFraud'].sort_values(ascending=False))"
      ]
    },
    {
      "cell_type": "markdown",
      "metadata": {},
      "source": [
        "***things to be done***\n",
        "\n",
        "3 major insights\n",
        "\n",
        "Handle outliers\n",
        "\n",
        "label enconding- done\n",
        "\n",
        "70% threshold for dropping features\n",
        "\n",
        "use t-SNE\n",
        "\n",
        "separability (visualization)\n",
        "\n",
        "remove data imbalance\n",
        "\n",
        "to limit features: sk learn/ max categories (top 3 0r 5), remove features sklearn(min frequency), top ranking, "
      ]
    },
    {
      "cell_type": "markdown",
      "metadata": {},
      "source": []
    }
  ],
  "metadata": {
    "colab": {
      "provenance": []
    },
    "kernelspec": {
      "display_name": "Python 3",
      "name": "python3"
    },
    "language_info": {
      "codemirror_mode": {
        "name": "ipython",
        "version": 3
      },
      "file_extension": ".py",
      "mimetype": "text/x-python",
      "name": "python",
      "nbconvert_exporter": "python",
      "pygments_lexer": "ipython3",
      "version": "3.8.2"
    }
  },
  "nbformat": 4,
  "nbformat_minor": 0
}
